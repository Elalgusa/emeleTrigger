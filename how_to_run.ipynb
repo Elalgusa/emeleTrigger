{
 "cells": [
  {
   "cell_type": "markdown",
   "metadata": {},
   "source": [
    "##  How to run the code\n",
    "\n",
    "This notebook runs the whole code from plotting the inputs, graph creation, graph representation, training and validation"
   ]
  },
  {
   "cell_type": "markdown",
   "metadata": {},
   "source": [
    "### Instalation\n",
    "\n",
    "Follow instructions on README\n",
    "```\n",
    "virtualenv pyenv  --python=3.11\n",
    "source <name_of_venv>/bin/activate\n",
    "pip install .\n",
    "```"
   ]
  },
  {
   "cell_type": "markdown",
   "metadata": {},
   "source": [
    " ### Plot inputs\n",
    "\n",
    " The code is stored under ``plotter`` and it is self-consistent. It takes a root file generated with the Dumper and plots a given histogram. Input files must be indicated in the ``dataset.py`` and the plots to be drawn in the ``plots.py``, the code will then be executed as follows: \n",
    "\n",
    "```\n",
    "python plotter.py --pdir myoutputdir\n",
    "```"
   ]
  },
  {
   "cell_type": "markdown",
   "metadata": {},
   "source": [
    "### Generate Graphs"
   ]
  },
  {
   "cell_type": "code",
   "execution_count": null,
   "metadata": {},
   "outputs": [
    {
     "name": "stdout",
     "output_type": "stream",
     "text": [
      "Only 3-neighbours are connected\n",
      "Loading data from ../data/Dumper_NTuples_v240725/Dumper_l1omtf_40files.root:simOmtfPhase2Digis/OMTFHitsTree\n"
     ]
    }
   ],
   "source": [
    "from tools.training.GraphCreationModel import GraphCreationModel\n",
    "\n",
    "datapath = \"../data/Dumper_NTuples_v240725/Dumper_l1omtf_40files.root:simOmtfPhase2Digis/OMTFHitsTree\"\n",
    "savepath = \"../data/Graphs_v240725/l1omtf_40files/\"\n",
    "\n",
    "graphs = GraphCreationModel(datapath, savepath, '3')  #for three neighbours\n",
    "graphs.set_muon_vars([\"muonQPt\"])  #for muonQPt or muonPt or muonQOverPt \n",
    "graphs.load_data()\n",
    "graphs.convert_to_graph()\n",
    "\n",
    "graphs.draw_example_graphs(\"graph_example_ALLlayers.png\")\n",
    "graphs.verifyGraphs()\n",
    "\n",
    "graphs.saveTorchDataset()"
   ]
  },
  {
   "cell_type": "markdown",
   "metadata": {},
   "source": [
    "###  Now train with those graphs:"
   ]
  },
  {
   "cell_type": "code",
   "execution_count": 2,
   "metadata": {},
   "outputs": [
    {
     "ename": "FileNotFoundError",
     "evalue": "[Errno 2] No such file or directory: '../data/Graphs_v240725/l1omtf_40files/'",
     "output_type": "error",
     "traceback": [
      "\u001b[0;31m---------------------------------------------------------------------------\u001b[0m",
      "\u001b[0;31mFileNotFoundError\u001b[0m                         Traceback (most recent call last)",
      "\u001b[0;32m/tmp/ipykernel_358/2113346708.py\u001b[0m in \u001b[0;36m<module>\u001b[0;34m\u001b[0m\n\u001b[1;32m     10\u001b[0m \u001b[0mtrainer\u001b[0m \u001b[0;34m=\u001b[0m \u001b[0mTrainModelFromGraph\u001b[0m\u001b[0;34m(\u001b[0m\u001b[0mgraph_path\u001b[0m\u001b[0;34m=\u001b[0m\u001b[0mInputFolder\u001b[0m\u001b[0;34m,\u001b[0m\u001b[0mout_path\u001b[0m\u001b[0;34m=\u001b[0m\u001b[0mOutputFolder\u001b[0m\u001b[0;34m,\u001b[0m\u001b[0mnum_files\u001b[0m\u001b[0;34m=\u001b[0m\u001b[0;36m5\u001b[0m\u001b[0;34m,\u001b[0m \u001b[0mepochs\u001b[0m\u001b[0;34m=\u001b[0m\u001b[0;36m100\u001b[0m\u001b[0;34m,\u001b[0m\u001b[0mgraph_name\u001b[0m\u001b[0;34m=\u001b[0m\u001b[0;34m\"vix_graph_6Nov_3\"\u001b[0m\u001b[0;34m)\u001b[0m\u001b[0;34m\u001b[0m\u001b[0;34m\u001b[0m\u001b[0m\n\u001b[1;32m     11\u001b[0m \u001b[0;34m\u001b[0m\u001b[0m\n\u001b[0;32m---> 12\u001b[0;31m \u001b[0mtrainer\u001b[0m\u001b[0;34m.\u001b[0m\u001b[0mload_data\u001b[0m\u001b[0;34m(\u001b[0m\u001b[0;34m)\u001b[0m\u001b[0;34m\u001b[0m\u001b[0;34m\u001b[0m\u001b[0m\n\u001b[0m\u001b[1;32m     13\u001b[0m \u001b[0mtrainer\u001b[0m\u001b[0;34m.\u001b[0m\u001b[0mplot_graph_features\u001b[0m\u001b[0;34m(\u001b[0m\u001b[0mtrainer\u001b[0m\u001b[0;34m.\u001b[0m\u001b[0mtrain_loader\u001b[0m\u001b[0;34m)\u001b[0m\u001b[0;34m\u001b[0m\u001b[0;34m\u001b[0m\u001b[0m\n\u001b[1;32m     14\u001b[0m \u001b[0mtrainer\u001b[0m\u001b[0;34m.\u001b[0m\u001b[0minitialize_model\u001b[0m\u001b[0;34m(\u001b[0m\u001b[0;34m)\u001b[0m\u001b[0;34m\u001b[0m\u001b[0;34m\u001b[0m\u001b[0m\n",
      "\u001b[0;32m/eos/home-i04/f/folguera/L1T/INTREPID/emeleTrigger/tools/training/TrainModelFromGraph.py\u001b[0m in \u001b[0;36mload_data\u001b[0;34m(self)\u001b[0m\n\u001b[1;32m    119\u001b[0m         \u001b[0;31m# Loading data from graph and convert it to DataLoader\u001b[0m\u001b[0;34m\u001b[0m\u001b[0;34m\u001b[0m\u001b[0m\n\u001b[1;32m    120\u001b[0m         \u001b[0mgraphs\u001b[0m \u001b[0;34m=\u001b[0m \u001b[0;34m[\u001b[0m\u001b[0;34m]\u001b[0m\u001b[0;34m\u001b[0m\u001b[0;34m\u001b[0m\u001b[0m\n\u001b[0;32m--> 121\u001b[0;31m         \u001b[0mall_files\u001b[0m \u001b[0;34m=\u001b[0m \u001b[0mos\u001b[0m\u001b[0;34m.\u001b[0m\u001b[0mlistdir\u001b[0m\u001b[0;34m(\u001b[0m\u001b[0mself\u001b[0m\u001b[0;34m.\u001b[0m\u001b[0mgraph_path\u001b[0m\u001b[0;34m)\u001b[0m\u001b[0;34m\u001b[0m\u001b[0;34m\u001b[0m\u001b[0m\n\u001b[0m\u001b[1;32m    122\u001b[0m \u001b[0;34m\u001b[0m\u001b[0m\n\u001b[1;32m    123\u001b[0m         \u001b[0;31m# Filter for .pkl files\u001b[0m\u001b[0;34m\u001b[0m\u001b[0;34m\u001b[0m\u001b[0m\n",
      "\u001b[0;31mFileNotFoundError\u001b[0m: [Errno 2] No such file or directory: '../data/Graphs_v240725/l1omtf_40files/'"
     ]
    }
   ],
   "source": [
    "import matplotlib.pyplot as plt\n",
    "from tools.training.TrainModelFromGraph import TrainModelFromGraph\n",
    "\n",
    "# Input variables and config\n",
    "InputFolder = \"../data/Graphs_v240725/l1omtf_40files/\" #/eos/cms/store/user/folguera/L1TMuon/INTREPID/Graphs_v240725_241113/\"\n",
    "OutputFolder = \"../data/Model_v240725_Bsize64_lr5e-4_NOnormNodes_muonOverPt_3neight_GAT_241113/\"\n",
    "\n",
    "\n",
    "# Instantiate the network\n",
    "trainer = TrainModelFromGraph(graph_path=InputFolder,out_path=OutputFolder,num_files=5, epochs=100,graph_name=\"vix_graph_6Nov_3\")\n",
    "\n",
    "trainer.load_data()\n",
    "trainer.plot_graph_features(trainer.train_loader)\n",
    "trainer.initialize_model()\n"
   ]
  },
  {
   "cell_type": "code",
   "execution_count": null,
   "metadata": {},
   "outputs": [],
   "source": [
    "trainer.Training_loop()\n"
   ]
  }
 ],
 "metadata": {
  "kernelspec": {
   "display_name": "Python 3",
   "language": "python",
   "name": "python3"
  },
  "language_info": {
   "codemirror_mode": {
    "name": "ipython",
    "version": 3
   },
   "file_extension": ".py",
   "mimetype": "text/x-python",
   "name": "python",
   "nbconvert_exporter": "python",
   "pygments_lexer": "ipython3",
   "version": "3.9.12"
  }
 },
 "nbformat": 4,
 "nbformat_minor": 4
}
