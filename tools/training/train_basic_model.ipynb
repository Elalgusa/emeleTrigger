{
 "cells": [
  {
   "cell_type": "code",
   "execution_count": null,
   "id": "10d93bb4",
   "metadata": {},
   "outputs": [],
   "source": [
    "%matplotlib inline"
   ]
  },
  {
   "cell_type": "code",
   "execution_count": null,
   "id": "2f7cd4d2",
   "metadata": {},
   "outputs": [],
   "source": [
    "import matplotlib.pyplot as plt\n",
    "\n",
    "from OMTFGraphNetwork import OMTFGraphNetwork\n",
    "\n",
    "# Instantiate the network\n",
    "g=OMTFGraphNetwork() # Optionally pass a class name. The class must inherit from nn.Module. DO NOT PASS THE CONSTRUCTOR (the constructor is called via g.instantiate_model() below)\n",
    "\n",
    "#g.load_data('data/omtfAnalysis2.root:simOmtfPhase2Digis/OMTFHitsTree', fraction=0.05, viz=True)\n",
    "#g.load_data('data/Displaced_cTau5m_XTo2LLTo4Mu_condPhase2_realistic_l1omtf_12.root:simOmtfPhase2Digis/OMTFHitsTree', fraction=1., viz=True)\n",
    "#g.load_data('data/SingleMu_GT131X_Extrapolation_GhostBusterTest_FlatPt0To1000Dxy3m_NonDegraded_Stub_v2.root:simOmtfDigis/OMTFHitsTree', fraction=1., viz=True)\n",
    "g.load_data('data/SingleMu_GT131X_Extrapolation_GhostBusterTest_XTo2LLP4Mu_Ctau5m_Stub.root:simOmtfDigis/OMTFHitsTree', fraction=0.01, viz=True)\n",
    "\n",
    "        \n",
    "# Train the model or load a pretrained model\n",
    "dotrain=True\n",
    "if not dotrain:\n",
    "    g.load_model('models/model.pth')\n",
    "else:\n",
    "    g.instantiate_model() # pass parameters of the model here, if needed\n",
    "    g.do_training(10)\n",
    "\n",
    "# Look at output plots\n",
    "g.visualize_prediction()\n",
    "\n"
   ]
  }
 ],
 "metadata": {
  "jupytext": {
   "cell_metadata_filter": "-all",
   "formats": "ipynb,py",
   "main_language": "python"
  }
 },
 "nbformat": 4,
 "nbformat_minor": 5
}
