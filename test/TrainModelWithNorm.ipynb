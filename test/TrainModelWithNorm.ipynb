{
 "cells": [
  {
   "cell_type": "code",
   "execution_count": 1,
   "metadata": {},
   "outputs": [],
   "source": [
    "import torch\n",
    "import torch.nn.functional as F\n",
    "from torch_geometric.loader import DataLoader\n",
    "from torch_geometric.nn import GATConv\n",
    "from torch_geometric.nn import global_mean_pool as gap, global_max_pool as gmp\n",
    "import os, sys\n",
    "\n",
    "import matplotlib.pyplot as plt\n",
    "\n",
    "from models import GATRegressor,GATv2Regressor"
   ]
  },
  {
   "cell_type": "code",
   "execution_count": 12,
   "metadata": {},
   "outputs": [],
   "source": [
    "## This are the configuration of all the parameters\n",
    "\n",
    "ModelOutDIR = \"Bsize64_lr5e-4_NOnormNodes/\"\n",
    "BatchSize = 64\n",
    "LearningRate = 0.0005\n",
    "Epochs = 500\n",
    "UsingOnly = 2\n"
   ]
  },
  {
   "cell_type": "code",
   "execution_count": 13,
   "metadata": {},
   "outputs": [
    {
     "name": "stdout",
     "output_type": "stream",
     "text": [
      "Using files: ['vix_graph_3_15Oct_onlypt_001.pkl', 'vix_graph_3_15Oct_onlypt_002.pkl', 'vix_graph_3_15Oct_onlypt_003.pkl', 'vix_graph_3_15Oct_onlypt_004.pkl', 'vix_graph_3_15Oct_onlypt_005.pkl', 'vix_graph_3_15Oct_onlypt_006.pkl', 'vix_graph_3_15Oct_onlypt_007.pkl', 'vix_graph_3_15Oct_onlypt_008.pkl', 'vix_graph_3_15Oct_onlypt_009.pkl']\n",
      "Loading file: vix_graph_3_15Oct_onlypt_001.pkl\n"
     ]
    },
    {
     "name": "stderr",
     "output_type": "stream",
     "text": [
      "C:\\Users\\folguerassantiago\\AppData\\Local\\Temp\\ipykernel_21088\\4025464192.py:24: FutureWarning: You are using `torch.load` with `weights_only=False` (the current default value), which uses the default pickle module implicitly. It is possible to construct malicious pickle data which will execute arbitrary code during unpickling (See https://github.com/pytorch/pytorch/blob/main/SECURITY.md#untrusted-models for more details). In a future release, the default value for `weights_only` will be flipped to `True`. This limits the functions that could be executed during unpickling. Arbitrary objects will no longer be allowed to be loaded via this mode unless they are explicitly allowlisted by the user via `torch.serialization.add_safe_globals`. We recommend you start setting `weights_only=True` for any use case where you don't have full control of the loaded file. Please open an issue on GitHub for any issues related to this experimental feature.\n",
      "  graphfile = torch.load(file)\n"
     ]
    },
    {
     "name": "stdout",
     "output_type": "stream",
     "text": [
      "Loading file: vix_graph_3_15Oct_onlypt_002.pkl\n",
      "Loading file: vix_graph_3_15Oct_onlypt_003.pkl\n"
     ]
    }
   ],
   "source": [
    "import os\n",
    "## check if EOS folder exists otherwise use local folder\n",
    "if os.path.exists(\"/eos/cms/store/user/folguera/L1TMuon/INTREPID/Graphs_v240725_241015/\"):\n",
    "    GraphDIR = \"/eos/cms/store/user/folguera/L1TMuon/INTREPID/Graphs_v240725_241015/\"\n",
    "else:\n",
    "    GraphDIR = \"../graph_folder/\"\n",
    "\n",
    "Allgraphs = []\n",
    "all_files = os.listdir(GraphDIR)\n",
    "\n",
    "# Filter for .pkl files\n",
    "pkl_files = [f for f in all_files if f.endswith('.pkl') and '_3_' in f]\n",
    "print(f\"Using files: {pkl_files}\")\n",
    "if not pkl_files:\n",
    "    print(\"No .pkl files found in the directory.\")\n",
    "    sys.exit()\n",
    "\n",
    "count_files = 0\n",
    "for pkl_file in pkl_files:\n",
    "    if count_files > UsingOnly: break\n",
    "    file_path = os.path.join(GraphDIR, pkl_file)\n",
    "    print(f\"Loading file: {pkl_file}\")\n",
    "    with open(file_path, 'rb') as file:\n",
    "        graphfile = torch.load(file)\n",
    "        Allgraphs.append(graphfile)\n",
    "    count_files+=1"
   ]
  },
  {
   "cell_type": "markdown",
   "metadata": {},
   "source": [
    "## Load data"
   ]
  },
  {
   "cell_type": "code",
   "execution_count": null,
   "metadata": {},
   "outputs": [
    {
     "name": "stdout",
     "output_type": "stream",
     "text": [
      "Total Graphs: 167346\n",
      "Total Graphs after filtering: 167259\n",
      "Training events: 117056\n",
      "tensor([[1.0331e+00, 9.8300e+02, 1.0060e+03, 6.0000e+00, 9.0000e+00],\n",
      "        [1.0114e+00, 9.7700e+02, 1.0767e+03, 1.5000e+01, 5.0000e+00],\n",
      "        [1.0440e+00, 9.9100e+02, 1.1959e+03, 7.0000e+00, 9.0000e+00],\n",
      "        [1.1092e+00, 9.5400e+02, 4.1368e+02, 1.0000e+01, 5.0000e+00]],\n",
      "       dtype=torch.float64)\n",
      "====================================\n",
      "Example of data:\n",
      "tensor([[1.0331e+00, 9.8300e+02, 1.0060e+03, 6.0000e+00, 9.0000e+00],\n",
      "        [1.0114e+00, 9.7700e+02, 1.0767e+03, 1.5000e+01, 5.0000e+00],\n",
      "        [1.0440e+00, 9.9100e+02, 1.1959e+03, 7.0000e+00, 9.0000e+00],\n",
      "        [1.1092e+00, 9.5400e+02, 4.1368e+02, 1.0000e+01, 5.0000e+00]],\n",
      "       dtype=torch.float64)\n",
      "tensor([[0, 0, 0, 1, 1, 2, 2, 3],\n",
      "        [1, 2, 3, 0, 2, 0, 1, 0]])\n",
      "tensor([ -6,   8, -29,  -6, -14,   8, -14, -29])\n",
      "tensor([-0.0217,  0.0109,  0.0761, -0.0217, -0.0326,  0.0109, -0.0326,  0.0761])\n",
      "tensor([[-6.0000e+00, -2.1750e-02],\n",
      "        [ 8.0000e+00,  1.0875e-02],\n",
      "        [-2.9000e+01,  7.6125e-02],\n",
      "        [-6.0000e+00, -2.1750e-02],\n",
      "        [-1.4000e+01, -3.2625e-02],\n",
      "        [ 8.0000e+00,  1.0875e-02],\n",
      "        [-1.4000e+01, -3.2625e-02],\n",
      "        [-2.9000e+01,  7.6125e-02]])\n",
      "tensor(-10.3202)\n",
      "====================================\n"
     ]
    }
   ],
   "source": [
    "import torch_geometric.transforms as T\n",
    "                   \n",
    "Graphs_for_training = sum(Allgraphs, [])\n",
    "Graphs_for_training_reduced = Graphs_for_training\n",
    "Graphs_for_training_filtered = [g for g in Graphs_for_training_reduced if g.edge_index.size(1) > 0]  # remove empty graphs\n",
    "\n",
    "# remove extra dimenson in y\n",
    "print(f\"Total Graphs: {len(Graphs_for_training)}\")\n",
    "print(f\"Total Graphs after filtering: {len(Graphs_for_training_filtered)}\")\n",
    "for i in range(0, len(Graphs_for_training_filtered)):\n",
    "    Graphs_for_training_filtered[i].y = Graphs_for_training_filtered[i].y.mean(dim=0)\n",
    "\n",
    "# Train and test split:\n",
    "events = len(Graphs_for_training_filtered)\n",
    "ntrain = int((events * 0.7) / BatchSize) * BatchSize  # to have full batches\n",
    "print(f\"Training events: {ntrain}\")\n",
    "\n",
    "print(Graphs_for_training_filtered[0].x)\n",
    "\n",
    "transform = T.Compose([T.NormalizeFeatures()])\n",
    "\n",
    "train_dataset = Graphs_for_training_filtered[:ntrain]\n",
    "test_dataset = Graphs_for_training_filtered[ntrain:ntrain * 2]\n",
    "\n",
    "for i in range(0, len(train_dataset)):\n",
    "    train_dataset[i].edge_attr = torch.stack([train_dataset[i].deltaPhi.float(), train_dataset[i].deltaEta.float()], dim=1)\n",
    "        \n",
    "\n",
    "print(\"====================================\")\n",
    "print(\"Example of data:\")\n",
    "print(train_dataset[0].x)\n",
    "print(train_dataset[0].edge_index)\n",
    "print(train_dataset[0].deltaPhi)\n",
    "print(train_dataset[0].deltaEta)\n",
    "print(train_dataset[0].edge_attr)\n",
    "print(train_dataset[0].y)\n",
    "print(\"====================================\")\n",
    "\n",
    "# Load data\n",
    "train_loader = DataLoader(train_dataset, batch_size=BatchSize, shuffle=True)\n",
    "test_loader = DataLoader(test_dataset, batch_size=BatchSize, shuffle=False)"
   ]
  },
  {
   "cell_type": "code",
   "execution_count": 20,
   "metadata": {},
   "outputs": [
    {
     "name": "stdout",
     "output_type": "stream",
     "text": [
      "Normalizing features\n",
      "Normalizing targets\n"
     ]
    },
    {
     "ename": "AttributeError",
     "evalue": "'list' object has no attribute 'mean'",
     "output_type": "error",
     "traceback": [
      "\u001b[1;31m---------------------------------------------------------------------------\u001b[0m",
      "\u001b[1;31mAttributeError\u001b[0m                            Traceback (most recent call last)",
      "Cell \u001b[1;32mIn[20], line 33\u001b[0m\n\u001b[0;32m     30\u001b[0m                 x\u001b[38;5;241m.\u001b[39medge_attr[:, i] \u001b[38;5;241m=\u001b[39m (x\u001b[38;5;241m.\u001b[39medge_attr[:, i] \u001b[38;5;241m-\u001b[39m mean) \u001b[38;5;241m/\u001b[39m std\n\u001b[0;32m     31\u001b[0m                 x\u001b[38;5;241m.\u001b[39medge_attr[:, i] \u001b[38;5;241m=\u001b[39m x\u001b[38;5;241m.\u001b[39medge_attr[:, i]\u001b[38;5;241m.\u001b[39mfloat()\n\u001b[1;32m---> 33\u001b[0m \u001b[43mnormalize_data\u001b[49m\u001b[43m(\u001b[49m\u001b[43mGraphs_for_training_filtered\u001b[49m\u001b[43m)\u001b[49m\n",
      "Cell \u001b[1;32mIn[20], line 16\u001b[0m, in \u001b[0;36mnormalize_data\u001b[1;34m(graphs, normalize_features, normalize_targets, normalize_edge_features)\u001b[0m\n\u001b[0;32m     14\u001b[0m \u001b[38;5;28mprint\u001b[39m(\u001b[38;5;124m\"\u001b[39m\u001b[38;5;124mNormalizing targets\u001b[39m\u001b[38;5;124m\"\u001b[39m)\n\u001b[0;32m     15\u001b[0m target \u001b[38;5;241m=\u001b[39m [x\u001b[38;5;241m.\u001b[39my \u001b[38;5;28;01mfor\u001b[39;00m x \u001b[38;5;129;01min\u001b[39;00m graphs]\n\u001b[1;32m---> 16\u001b[0m mean \u001b[38;5;241m=\u001b[39m \u001b[43mtarget\u001b[49m\u001b[38;5;241;43m.\u001b[39;49m\u001b[43mmean\u001b[49m()\n\u001b[0;32m     17\u001b[0m std \u001b[38;5;241m=\u001b[39m target\u001b[38;5;241m.\u001b[39mstd()\n\u001b[0;32m     18\u001b[0m \u001b[38;5;28;01mfor\u001b[39;00m x \u001b[38;5;129;01min\u001b[39;00m graphs:\n",
      "\u001b[1;31mAttributeError\u001b[0m: 'list' object has no attribute 'mean'"
     ]
    }
   ],
   "source": [
    "def normalize_data(graphs, normalize_features=True, normalize_targets=True, normalize_edge_features=True):\n",
    "    if normalize_features:\n",
    "        print(\"Normalizing features\")\n",
    "        for i in range(5):\n",
    "            feature = [x.x[:, i] for x in graphs]\n",
    "            feature = torch.cat(feature, dim=0)\n",
    "            mean = feature.mean()\n",
    "            std = feature.std()\n",
    "            for x in graphs:\n",
    "                x.x[:, i] = (x.x[:, i] - mean) / std\n",
    "                x.x[:, i] = x.x[:, i].float()\n",
    "\n",
    "    if normalize_targets:\n",
    "        print(\"Normalizing targets\")\n",
    "        target = [x.y for x in graphs]\n",
    "        mean = target.mean()\n",
    "        std = target.std()\n",
    "        for x in graphs:\n",
    "            x.y = (x.y - mean) / std\n",
    "            x.y = x.y.float()\n",
    "\n",
    "    if normalize_edge_features:\n",
    "        print(\"Normalizing edge features\")\n",
    "        for i in range(2):\n",
    "            feature = [x.edge_attr[:, i] for x in graphs]\n",
    "            feature = torch.cat(feature, dim=0)\n",
    "            mean = feature.mean()\n",
    "            std = feature.std()\n",
    "            for x in graphs:\n",
    "                x.edge_attr[:, i] = (x.edge_attr[:, i] - mean) / std\n",
    "                x.edge_attr[:, i] = x.edge_attr[:, i].float()\n",
    "\n",
    "normalize_data(Graphs_for_training_filtered)"
   ]
  },
  {
   "cell_type": "code",
   "execution_count": 5,
   "metadata": {},
   "outputs": [
    {
     "name": "stdout",
     "output_type": "stream",
     "text": [
      "[-26 -23 -11 ...  -9 -23   9]\n",
      "tensor([[  0,   0,   0,  ..., 357, 358, 358],\n",
      "        [  1,   2,   3,  ..., 356, 354, 355]])\n"
     ]
    },
    {
     "data": {
      "image/png": "[encoded data removed]",
      "text/plain": [
       "<Figure size 1080x1080 with 9 Axes>"
      ]
     },
     "metadata": {
      "needs_background": "light"
     },
     "output_type": "display_data"
    }
   ],
   "source": [
    "import matplotlib.pyplot as plt\n",
    "\n",
    "# Function to plot histograms for each feature in the same figure\n",
    "\n",
    "def plot_histograms(data_loader):   \n",
    "    feature_names = [\"eta\", \"phi\", \"R\", \"layer\", \"Type\"]\n",
    "    for batch in data_loader:\n",
    "        features = batch.x.numpy()\n",
    "        regression = batch.y.numpy()\n",
    "        deltaphi = batch.deltaPhi.numpy() \n",
    "        deltaeta = batch.deltaEta.numpy()\n",
    "        num_features = features.shape[1]\n",
    "        print(deltaphi)\n",
    "        fig, axs = plt.subplots(3, 3, figsize=(15, 15))\n",
    "        axs = axs.flatten()\n",
    "        \n",
    "        # Plot node features\n",
    "        for i in range(num_features):\n",
    "            if i==3: \n",
    "                nbins = 18\n",
    "            else :\n",
    "                nbins = 30\n",
    "            axs[i].hist(features[:, i], bins=nbins, alpha=0.75)\n",
    "            axs[i].set_title(f'Feature {feature_names[i]} Histogram')\n",
    "            axs[i].set_xlabel(f'Feature {feature_names[i]} Value')\n",
    "            axs[i].set_ylabel('Frequency')\n",
    "        \n",
    "        \n",
    "        # plot the number of edges of each graph\n",
    "        print(batch.edge_index)\n",
    "        #calculate the average number of edges, dividing by the number of nodes\n",
    "        num_edges = batch.edge_index.size(1)/batch.x.size(0)\n",
    "        axs[num_features].hist(num_edges, bins=30, alpha=0.75)\n",
    "        axs[num_features].set_title('Number of Edges/Node')\n",
    "        axs[num_features].set_ylabel('Count')\n",
    "        \n",
    "        # Plot edge features\n",
    "        axs[num_features + 1].hist(deltaphi, bins=30, alpha=0.75)\n",
    "        axs[num_features + 1].set_title(f'Edge Feature deltaPhi Histogram')\n",
    "        axs[num_features + 1].set_xlabel(f'Edge Feature deltaPhi Value')\n",
    "        axs[num_features + 1].set_ylabel('Frequency')\n",
    "        \n",
    "        axs[num_features + 2].hist(deltaeta, bins=30, alpha=0.75)\n",
    "        axs[num_features + 2].set_title(f'Edge Feature deltaEta Histogram')\n",
    "        axs[num_features + 2].set_xlabel(f'Edge Feature deltaEta Value')\n",
    "        axs[num_features + 2].set_ylabel('Frequency')\n",
    "\n",
    "        # Plot regression target\n",
    "        axs[num_features + 3].hist(regression, bins=30, alpha=0.75)\n",
    "        axs[num_features + 3].set_title('Regression Target Histogram')\n",
    "        axs[num_features + 3].set_xlabel('Regression Target Value')\n",
    "        axs[num_features + 3].set_ylabel('Frequency')\n",
    "              \n",
    "        plt.tight_layout()\n",
    "        plt.show()\n",
    "        break  # Only draw the first batch\n",
    "\n",
    "# Plot histograms for training data\n",
    "plot_histograms(train_loader)"
   ]
  },
  {
   "cell_type": "code",
   "execution_count": 6,
   "metadata": {},
   "outputs": [],
   "source": [
    "from models import GATRegressor,GATRegressorDO,GATv2Regressor"
   ]
  },
  {
   "cell_type": "code",
   "execution_count": 7,
   "metadata": {},
   "outputs": [
    {
     "name": "stdout",
     "output_type": "stream",
     "text": [
      "Using device: cuda\n",
      "Model, optimizer, and loss criterion initialized\n",
      "GATRegressorDO(\n",
      "  (conv1): GATConv(5, 64, heads=1)\n",
      "  (conv2): GATConv(64, 64, heads=1)\n",
      "  (fc1): Linear(in_features=128, out_features=1, bias=True)\n",
      ")\n",
      "====================================\n"
     ]
    }
   ],
   "source": [
    "num_node_features = 5\n",
    "num_edge_features = 2\n",
    "hidden_dim = BatchSize\n",
    "output_dim = 1\n",
    "\n",
    "device = torch.device('cuda' if torch.cuda.is_available() else 'cpu')\n",
    "print(f\"Using device: {device}\")\n",
    "\n",
    "\n",
    "model = GATRegressorDO(num_node_features, hidden_dim, output_dim)\n",
    "optimizer = torch.optim.Adam(model.parameters(), lr=LearningRate, weight_decay=0.75)\n",
    "\n",
    "criterion = torch.nn.MSELoss()\n",
    "print(\"Model, optimizer, and loss criterion initialized\")\n",
    "print(model)\n",
    "print(\"====================================\")"
   ]
  },
  {
   "cell_type": "code",
   "execution_count": null,
   "metadata": {},
   "outputs": [
    {
     "name": "stdout",
     "output_type": "stream",
     "text": [
      "Start training...\n",
      "Epoch: 00, Train loss: 739.2736, Train Acc:  0.00 |  Test loss: 683.2512, Test Acc:  0.00 | Time: 174.91 seconds\n"
     ]
    }
   ],
   "source": [
    "def accuracy(y_pred, y_true):\n",
    "    \"\"\"Calculate accuracy.\"\"\"\n",
    "    return 100 * (1 - torch.mean(torch.abs(y_pred - y_true) / torch.abs(y_true)))\n",
    "\n",
    "def train(model, loader):\n",
    "    model.train()\n",
    "    total_loss = 0\n",
    "    total_acc = 0\n",
    "    for data in loader:\n",
    "        data.y = data.y.float()  # Asegurarse de que los datos sean float32\n",
    "        data.x = data.x.float()  # Asegurarse de que los datos sean float32\n",
    "\n",
    "        out = model(data)\n",
    "        optimizer.zero_grad()\n",
    "        loss = criterion(out, data.y.view(out.size()))\n",
    "        loss.backward()\n",
    "        optimizer.step()\n",
    "        total_loss += float(loss)/len(loader)\n",
    "        total_acc += accuracy(out.argmax(dim=1), data.y) / len(loader)\n",
    "\n",
    "    return total_loss, total_acc\n",
    "\n",
    "def test(model,loader):\n",
    "    with torch.no_grad():\n",
    "        model.eval()\n",
    "        total_loss = 0\n",
    "        acc = 0\n",
    "\n",
    "        for data in loader:\n",
    "            data.x = data.x.float()  # Asegurarse de que los datos sean float32\n",
    "            data.y = data.y.float()  # Asegurarse de que los datos sean float32\n",
    "            out = model(data)\n",
    "            loss = criterion(out, data.y.view(out.size()))\n",
    "            total_loss += float(loss)/len(loader)\n",
    "            acc += accuracy(out.argmax(dim=1), data.y) / len(loader)\n",
    "\n",
    "            \n",
    "    return total_loss, acc\n",
    "\n",
    "print(\"Start training...\")\n",
    "import time\n",
    "train_losses = []\n",
    "test_losses = []\n",
    "for epoch in range(Epochs+1):\n",
    "    start_time = time.time()\n",
    "    train_loss, train_acc = train(model, train_loader)\n",
    "    test_loss, test_acc = test(model, test_loader)\n",
    "    train_losses.append(train_loss)\n",
    "    test_losses.append(test_loss)\n",
    "    \n",
    "    if (epoch) % 10 == 0:\n",
    "        print(f'Epoch: {epoch:02d}, Train loss: {train_loss:.4f}, Train Acc: {train_acc:>5.2f} |  Test loss: {test_loss:.4f}, Test Acc: {test_acc:>5.2f} | Time: {(time.time()-start_time):.2f} seconds')\n",
    "    \n",
    "    if (epoch+1) % 100 == 0:\n",
    "        print(f'Saving model for last epoch and plotting loss...')\n",
    "        torch.save(model, f\"{ModelOutDIR}/model_{epoch + 1}.pth\")\n",
    "    \n",
    "    if epoch == Epochs:\n",
    "        print(f'Saving model for last epoch and plotting loss...')\n",
    "        torch.save(model, f\"{ModelOutDIR}/model_{epoch + 1}.pth\")\n",
    "        plt.plot(train_losses, \"b\", label=\"Train loss\")\n",
    "        plt.plot(test_losses, \"k\", label=\"Test loss\")\n",
    "        plt.yscale('log')\n",
    "        plt.savefig(f\"{ModelOutDIR}/loss_plot.png\")\n",
    "        plt.close()\n",
    "     \n",
    "print(\"Training finished.\")\n",
    "\n"
   ]
  },
  {
   "cell_type": "code",
   "execution_count": null,
   "metadata": {},
   "outputs": [],
   "source": []
  }
 ],
 "metadata": {
  "kernelspec": {
   "display_name": "Python 3",
   "language": "python",
   "name": "python3"
  },
  "language_info": {
   "codemirror_mode": {
    "name": "ipython",
    "version": 3
   },
   "file_extension": ".py",
   "mimetype": "text/x-python",
   "name": "python",
   "nbconvert_exporter": "python",
   "pygments_lexer": "ipython3",
   "version": "3.9.12"
  }
 },
 "nbformat": 4,
 "nbformat_minor": 4
}
