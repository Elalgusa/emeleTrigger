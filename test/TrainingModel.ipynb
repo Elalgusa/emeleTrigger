{
 "cells": [
  {
   "cell_type": "markdown",
   "id": "504a19d5-3826-4061-b04e-624faa83d938",
   "metadata": {},
   "source": [
    "# Graph Neural Network Training\n",
    "\n",
    "Creation of graphs were done with \n",
    "```tools/training/GraphCreationModel.py```\n",
    "Files can be found in: \n",
    "```/eos/cms/store/user/folguera/L1TMuon/INTREPID/Graphs_v240725_241015/```\n",
    "in two flavours, with \"all\" connected layers and with up to \"3-neighbour\" layers connections. "
   ]
  },
  {
   "cell_type": "code",
   "execution_count": 1,
   "id": "ee8a9bb6-0343-4241-8191-af45f93f8f1e",
   "metadata": {},
   "outputs": [],
   "source": [
    "import torch\n",
    "import torch.nn.functional as F\n",
    "from torch_geometric.loader import DataLoader\n",
    "from torch_geometric.nn import GATConv\n",
    "from torch_geometric.nn import global_mean_pool as gap, global_max_pool as gmp\n",
    "import os, sys\n",
    "\n",
    "import matplotlib.pyplot as plt\n"
   ]
  },
  {
   "cell_type": "code",
   "execution_count": 2,
   "id": "9862d630-d545-4bf3-8511-ba95ae726a0f",
   "metadata": {},
   "outputs": [],
   "source": [
    "from models import GATRegressor"
   ]
  },
  {
   "cell_type": "markdown",
   "id": "5b72ed9a-7364-4ad5-b85a-00b967c65487",
   "metadata": {},
   "source": [
    "## Load data"
   ]
  },
  {
   "cell_type": "code",
   "execution_count": 3,
   "id": "b8085132-9490-4c1f-b21b-3647e0fa22d9",
   "metadata": {},
   "outputs": [
    {
     "name": "stdout",
     "output_type": "stream",
     "text": [
      "../graph_folder/\n"
     ]
    }
   ],
   "source": [
    "## check if EOS folder exists otherwise use local folder\n",
    "if os.path.exists(\"/eos/cms/store/user/folguera/L1TMuon/INTREPID/Graphs_v240725_241015/\"):\n",
    "    GraphDIR = \"/eos/cms/store/user/folguera/L1TMuon/INTREPID/Graphs_v240725_241015/\"\n",
    "else:\n",
    "    GraphDIR = \"../graph_folder/\"\n",
    "using_only = 5  ## number of files used\n",
    "print(GraphDIR)"
   ]
  },
  {
   "cell_type": "code",
   "execution_count": 4,
   "id": "b71ac25c-5006-496c-9545-d22231c5cf75",
   "metadata": {},
   "outputs": [
    {
     "name": "stdout",
     "output_type": "stream",
     "text": [
      "Using files: ['vix_graph_3_15Oct_onlypt_009.pkl', 'vix_graph_3_15Oct_onlypt_008.pkl', 'vix_graph_3_15Oct_onlypt_005.pkl', 'vix_graph_3_15Oct_onlypt_004.pkl', 'vix_graph_3_15Oct_onlypt_006.pkl', 'vix_graph_3_15Oct_onlypt_007.pkl', 'vix_graph_3_15Oct_onlypt_003.pkl', 'vix_graph_3_15Oct_onlypt_002.pkl', 'vix_graph_3_15Oct_onlypt_001.pkl']\n"
     ]
    }
   ],
   "source": [
    "Allgraphs = []\n",
    "all_files = os.listdir(GraphDIR)\n",
    "\n",
    "# Filter for .pkl files\n",
    "pkl_files = [f for f in all_files if f.endswith('.pkl') and '_3_' in f]\n",
    "print(f\"Using files: {pkl_files}\")\n",
    "if not pkl_files:\n",
    "    print(\"No .pkl files found in the directory.\")\n",
    "    sys.exit()"
   ]
  },
  {
   "cell_type": "code",
   "execution_count": 5,
   "id": "b4c21c98-6789-4fbd-8173-5718ad69b374",
   "metadata": {},
   "outputs": [
    {
     "name": "stdout",
     "output_type": "stream",
     "text": [
      "Loading file: vix_graph_3_15Oct_onlypt_009.pkl\n"
     ]
    },
    {
     "name": "stderr",
     "output_type": "stream",
     "text": [
      "/var/folders/08/4qyj2h792lv7kk8b3phm_j000000gn/T/ipykernel_10486/3026860541.py:7: FutureWarning: You are using `torch.load` with `weights_only=False` (the current default value), which uses the default pickle module implicitly. It is possible to construct malicious pickle data which will execute arbitrary code during unpickling (See https://github.com/pytorch/pytorch/blob/main/SECURITY.md#untrusted-models for more details). In a future release, the default value for `weights_only` will be flipped to `True`. This limits the functions that could be executed during unpickling. Arbitrary objects will no longer be allowed to be loaded via this mode unless they are explicitly allowlisted by the user via `torch.serialization.add_safe_globals`. We recommend you start setting `weights_only=True` for any use case where you don't have full control of the loaded file. Please open an issue on GitHub for any issues related to this experimental feature.\n",
      "  graphfile = torch.load(file)\n"
     ]
    },
    {
     "name": "stdout",
     "output_type": "stream",
     "text": [
      "Loading file: vix_graph_3_15Oct_onlypt_008.pkl\n",
      "Loading file: vix_graph_3_15Oct_onlypt_005.pkl\n",
      "Loading file: vix_graph_3_15Oct_onlypt_004.pkl\n",
      "Loading file: vix_graph_3_15Oct_onlypt_006.pkl\n"
     ]
    }
   ],
   "source": [
    "count_files = 0\n",
    "for pkl_file in pkl_files:\n",
    "    if count_files >= using_only: break\n",
    "    file_path = os.path.join(GraphDIR, pkl_file)\n",
    "    print(f\"Loading file: {pkl_file}\")\n",
    "    with open(file_path, 'rb') as file:\n",
    "        graphfile = torch.load(file)\n",
    "        Allgraphs.append(graphfile)\n",
    "    count_files+=1"
   ]
  },
  {
   "cell_type": "code",
   "execution_count": 6,
   "id": "a65a2c49-4267-4b6d-85c1-bf02a79be9c8",
   "metadata": {},
   "outputs": [
    {
     "name": "stdout",
     "output_type": "stream",
     "text": [
      "Total Graphs: 279461\n",
      "Total Graphs after filtering: 279332\n",
      "Training events: 195520\n",
      "====================================\n",
      "Example of data:\n",
      "tensor([[1.0005e+00, 1.7940e+03, 4.3113e+02, 0.0000e+00, 3.0000e+00],\n",
      "        [9.4612e-01, 1.7750e+03, 4.1368e+02, 1.0000e+01, 5.0000e+00],\n",
      "        [8.9175e-01, 1.7780e+03, 4.4868e+02, 1.1000e+01, 5.0000e+00],\n",
      "        [9.7875e-01, 1.7890e+03, 1.0766e+03, 6.0000e+00, 9.0000e+00],\n",
      "        [1.0005e+00, 1.7810e+03, 1.0914e+03, 1.5000e+01, 5.0000e+00]],\n",
      "       dtype=torch.float64)\n",
      "tensor([[0, 0, 1, 1, 2, 2, 3, 4],\n",
      "        [1, 2, 0, 2, 0, 1, 4, 3]])\n",
      "tensor([-19, -16, -19,   3, -16,   3,  -8,  -8])\n",
      "tensor([-0.0544, -0.1088, -0.0544, -0.0544, -0.1088, -0.0544,  0.0217,  0.0217])\n",
      "tensor([-64.5507])\n",
      "====================================\n"
     ]
    }
   ],
   "source": [
    "BatchSize=64\n",
    "\n",
    "Graphs_for_training = sum(Allgraphs, [])\n",
    "Graphs_for_training_reduced = Graphs_for_training\n",
    "Graphs_for_training_filtered = [g for g in Graphs_for_training_reduced if g.edge_index.size(1) > 0]  # remove empty graphs\n",
    "\n",
    "# remove extra dimenson in y\n",
    "print(f\"Total Graphs: {len(Graphs_for_training)}\")\n",
    "print(f\"Total Graphs after filtering: {len(Graphs_for_training_filtered)}\")\n",
    "for i in range(0, len(Graphs_for_training_filtered)):\n",
    "    Graphs_for_training_filtered[i].y = Graphs_for_training_filtered[i].y.mean(dim=0)\n",
    "\n",
    "# Train and test split:\n",
    "events = len(Graphs_for_training_filtered)\n",
    "ntrain = int((events * 0.7) / BatchSize) * BatchSize  # to have full batches\n",
    "print(f\"Training events: {ntrain}\")\n",
    "train_dataset = Graphs_for_training_filtered[:ntrain]\n",
    "test_dataset = Graphs_for_training_filtered[ntrain:ntrain * 2]\n",
    "\n",
    "print(\"====================================\")\n",
    "print(\"Example of data:\")\n",
    "print(train_dataset[0].x)\n",
    "print(train_dataset[0].edge_index)\n",
    "print(train_dataset[0].deltaPhi)\n",
    "print(train_dataset[0].deltaEta)\n",
    "print(train_dataset[0].y)\n",
    "print(\"====================================\")\n",
    "\n",
    "\n",
    "# Load data\n",
    "train_loader = DataLoader(train_dataset, batch_size=BatchSize, shuffle=True)\n",
    "test_loader = DataLoader(test_dataset, batch_size=BatchSize, shuffle=False)\n",
    "\n"
   ]
  },
  {
   "cell_type": "code",
   "execution_count": null,
   "id": "a5d06f89",
   "metadata": {},
   "outputs": [],
   "source": [
    "model = GATRegressor(num_node_features, num_edge_features, hidden_dim, output_dim).to(self.device)\n",
    "optimizer = torch.optim.Adam(self.model.parameters(), lr=self.LearningRate, weight_decay=0.75)\n",
    "print(\"Model initialized\")\n",
    "print(model)"
   ]
  },
  {
   "cell_type": "markdown",
   "id": "cad19f4b-ebe3-4cb3-8fe7-71542f3ede76",
   "metadata": {},
   "source": [
    "### Training loop"
   ]
  },
  {
   "cell_type": "code",
   "execution_count": 7,
   "id": "aa398616-e2a3-490e-8502-2afb1971c54a",
   "metadata": {},
   "outputs": [
    {
     "name": "stdout",
     "output_type": "stream",
     "text": [
      "Using device: cpu\n",
      "Model initialized\n",
      "GATRegressor(\n",
      "  (conv1): GATConv(5, 64, heads=1)\n",
      "  (conv2): GATConv(64, 64, heads=1)\n",
      "  (fc1): Linear(in_features=128, out_features=1, bias=True)\n",
      ")\n"
     ]
    }
   ],
   "source": [
    "num_node_features = 5\n",
    "hidden_dim = BatchSize\n",
    "output_dim = 1\n",
    "LearningRate=0.0005\n",
    "device = torch.device('cuda' if torch.cuda.is_available() else 'cpu')\n",
    "\n",
    "print(f\"Using device: {device}\")\n",
    "model = GATRegressor(num_node_features, hidden_dim, output_dim).to(device)\n",
    "optimizer = torch.optim.Adam(model.parameters(), lr=LearningRate, weight_decay=0.75)\n",
    "loss_fn = torch.nn.MSELoss()\n",
    "print(\"Model initialized\")\n",
    "print(model)\n"
   ]
  },
  {
   "cell_type": "code",
   "execution_count": 8,
   "id": "5f259b03-5be6-46fc-abf0-0105c533c73b",
   "metadata": {},
   "outputs": [],
   "source": [
    "train_losses = []\n",
    "test_losses = []\n",
    "#\n",
    "# path = \"/eos/cms/store/user/folguera/L1TMuon/INTREPID/Model_v240725_241015/\"\n",
    "path = \"../model_folder/\"\n",
    "if not os.path.exists(path):\n",
    "    os.makedirs(path)"
   ]
  },
  {
   "cell_type": "code",
   "execution_count": 43,
   "id": "87282a0d-096c-458d-b2ec-baa9102fafa4",
   "metadata": {},
   "outputs": [
    {
     "name": "stdout",
     "output_type": "stream",
     "text": [
      "Start training...\n",
      "Epoch: 01, Train loss: 3.8789, Test loss: 3.8188\n"
     ]
    },
    {
     "ename": "KeyboardInterrupt",
     "evalue": "",
     "output_type": "error",
     "traceback": [
      "\u001b[0;31m---------------------------------------------------------------------------\u001b[0m",
      "\u001b[0;31mKeyboardInterrupt\u001b[0m                         Traceback (most recent call last)",
      "Cell \u001b[0;32mIn[43], line 39\u001b[0m\n\u001b[1;32m     37\u001b[0m \u001b[38;5;28mprint\u001b[39m(\u001b[38;5;124m\"\u001b[39m\u001b[38;5;124mStart training...\u001b[39m\u001b[38;5;124m\"\u001b[39m)\n\u001b[1;32m     38\u001b[0m \u001b[38;5;28;01mfor\u001b[39;00m epoch \u001b[38;5;129;01min\u001b[39;00m \u001b[38;5;28mrange\u001b[39m(\u001b[38;5;241m1000\u001b[39m):\n\u001b[0;32m---> 39\u001b[0m     train_loss \u001b[38;5;241m=\u001b[39m \u001b[43mtrain\u001b[49m\u001b[43m(\u001b[49m\u001b[43m)\u001b[49m\n\u001b[1;32m     40\u001b[0m     test_loss \u001b[38;5;241m=\u001b[39m test()\n\u001b[1;32m     41\u001b[0m     train_losses\u001b[38;5;241m.\u001b[39mappend(train_loss)\n",
      "Cell \u001b[0;32mIn[43], line 18\u001b[0m, in \u001b[0;36mtrain\u001b[0;34m()\u001b[0m\n\u001b[1;32m     15\u001b[0m     \u001b[38;5;66;03m# Maneja el error o proporciona un valor por defecto\u001b[39;00m\n\u001b[1;32m     16\u001b[0m     loss \u001b[38;5;241m=\u001b[39m torch\u001b[38;5;241m.\u001b[39mtensor(\u001b[38;5;241m0.0\u001b[39m, device\u001b[38;5;241m=\u001b[39mdevice)\n\u001b[0;32m---> 18\u001b[0m \u001b[43mloss\u001b[49m\u001b[38;5;241;43m.\u001b[39;49m\u001b[43mbackward\u001b[49m\u001b[43m(\u001b[49m\u001b[43m)\u001b[49m\n\u001b[1;32m     19\u001b[0m optimizer\u001b[38;5;241m.\u001b[39mstep()\n\u001b[1;32m     20\u001b[0m total_loss \u001b[38;5;241m+\u001b[39m\u001b[38;5;241m=\u001b[39m \u001b[38;5;28mfloat\u001b[39m(loss)\n",
      "File \u001b[0;32m~/cernbox/L1T/INTREPID/emeleTrigger/pyenv/lib/python3.11/site-packages/torch/_tensor.py:521\u001b[0m, in \u001b[0;36mTensor.backward\u001b[0;34m(self, gradient, retain_graph, create_graph, inputs)\u001b[0m\n\u001b[1;32m    511\u001b[0m \u001b[38;5;28;01mif\u001b[39;00m has_torch_function_unary(\u001b[38;5;28mself\u001b[39m):\n\u001b[1;32m    512\u001b[0m     \u001b[38;5;28;01mreturn\u001b[39;00m handle_torch_function(\n\u001b[1;32m    513\u001b[0m         Tensor\u001b[38;5;241m.\u001b[39mbackward,\n\u001b[1;32m    514\u001b[0m         (\u001b[38;5;28mself\u001b[39m,),\n\u001b[0;32m   (...)\u001b[0m\n\u001b[1;32m    519\u001b[0m         inputs\u001b[38;5;241m=\u001b[39minputs,\n\u001b[1;32m    520\u001b[0m     )\n\u001b[0;32m--> 521\u001b[0m \u001b[43mtorch\u001b[49m\u001b[38;5;241;43m.\u001b[39;49m\u001b[43mautograd\u001b[49m\u001b[38;5;241;43m.\u001b[39;49m\u001b[43mbackward\u001b[49m\u001b[43m(\u001b[49m\n\u001b[1;32m    522\u001b[0m \u001b[43m    \u001b[49m\u001b[38;5;28;43mself\u001b[39;49m\u001b[43m,\u001b[49m\u001b[43m \u001b[49m\u001b[43mgradient\u001b[49m\u001b[43m,\u001b[49m\u001b[43m \u001b[49m\u001b[43mretain_graph\u001b[49m\u001b[43m,\u001b[49m\u001b[43m \u001b[49m\u001b[43mcreate_graph\u001b[49m\u001b[43m,\u001b[49m\u001b[43m \u001b[49m\u001b[43minputs\u001b[49m\u001b[38;5;241;43m=\u001b[39;49m\u001b[43minputs\u001b[49m\n\u001b[1;32m    523\u001b[0m \u001b[43m\u001b[49m\u001b[43m)\u001b[49m\n",
      "File \u001b[0;32m~/cernbox/L1T/INTREPID/emeleTrigger/pyenv/lib/python3.11/site-packages/torch/autograd/__init__.py:289\u001b[0m, in \u001b[0;36mbackward\u001b[0;34m(tensors, grad_tensors, retain_graph, create_graph, grad_variables, inputs)\u001b[0m\n\u001b[1;32m    284\u001b[0m     retain_graph \u001b[38;5;241m=\u001b[39m create_graph\n\u001b[1;32m    286\u001b[0m \u001b[38;5;66;03m# The reason we repeat the same comment below is that\u001b[39;00m\n\u001b[1;32m    287\u001b[0m \u001b[38;5;66;03m# some Python versions print out the first line of a multi-line function\u001b[39;00m\n\u001b[1;32m    288\u001b[0m \u001b[38;5;66;03m# calls in the traceback and some print out the last line\u001b[39;00m\n\u001b[0;32m--> 289\u001b[0m \u001b[43m_engine_run_backward\u001b[49m\u001b[43m(\u001b[49m\n\u001b[1;32m    290\u001b[0m \u001b[43m    \u001b[49m\u001b[43mtensors\u001b[49m\u001b[43m,\u001b[49m\n\u001b[1;32m    291\u001b[0m \u001b[43m    \u001b[49m\u001b[43mgrad_tensors_\u001b[49m\u001b[43m,\u001b[49m\n\u001b[1;32m    292\u001b[0m \u001b[43m    \u001b[49m\u001b[43mretain_graph\u001b[49m\u001b[43m,\u001b[49m\n\u001b[1;32m    293\u001b[0m \u001b[43m    \u001b[49m\u001b[43mcreate_graph\u001b[49m\u001b[43m,\u001b[49m\n\u001b[1;32m    294\u001b[0m \u001b[43m    \u001b[49m\u001b[43minputs\u001b[49m\u001b[43m,\u001b[49m\n\u001b[1;32m    295\u001b[0m \u001b[43m    \u001b[49m\u001b[43mallow_unreachable\u001b[49m\u001b[38;5;241;43m=\u001b[39;49m\u001b[38;5;28;43;01mTrue\u001b[39;49;00m\u001b[43m,\u001b[49m\n\u001b[1;32m    296\u001b[0m \u001b[43m    \u001b[49m\u001b[43maccumulate_grad\u001b[49m\u001b[38;5;241;43m=\u001b[39;49m\u001b[38;5;28;43;01mTrue\u001b[39;49;00m\u001b[43m,\u001b[49m\n\u001b[1;32m    297\u001b[0m \u001b[43m\u001b[49m\u001b[43m)\u001b[49m\n",
      "File \u001b[0;32m~/cernbox/L1T/INTREPID/emeleTrigger/pyenv/lib/python3.11/site-packages/torch/autograd/graph.py:769\u001b[0m, in \u001b[0;36m_engine_run_backward\u001b[0;34m(t_outputs, *args, **kwargs)\u001b[0m\n\u001b[1;32m    767\u001b[0m     unregister_hooks \u001b[38;5;241m=\u001b[39m _register_logging_hooks_on_whole_graph(t_outputs)\n\u001b[1;32m    768\u001b[0m \u001b[38;5;28;01mtry\u001b[39;00m:\n\u001b[0;32m--> 769\u001b[0m     \u001b[38;5;28;01mreturn\u001b[39;00m \u001b[43mVariable\u001b[49m\u001b[38;5;241;43m.\u001b[39;49m\u001b[43m_execution_engine\u001b[49m\u001b[38;5;241;43m.\u001b[39;49m\u001b[43mrun_backward\u001b[49m\u001b[43m(\u001b[49m\u001b[43m  \u001b[49m\u001b[38;5;66;43;03m# Calls into the C++ engine to run the backward pass\u001b[39;49;00m\n\u001b[1;32m    770\u001b[0m \u001b[43m        \u001b[49m\u001b[43mt_outputs\u001b[49m\u001b[43m,\u001b[49m\u001b[43m \u001b[49m\u001b[38;5;241;43m*\u001b[39;49m\u001b[43margs\u001b[49m\u001b[43m,\u001b[49m\u001b[43m \u001b[49m\u001b[38;5;241;43m*\u001b[39;49m\u001b[38;5;241;43m*\u001b[39;49m\u001b[43mkwargs\u001b[49m\n\u001b[1;32m    771\u001b[0m \u001b[43m    \u001b[49m\u001b[43m)\u001b[49m  \u001b[38;5;66;03m# Calls into the C++ engine to run the backward pass\u001b[39;00m\n\u001b[1;32m    772\u001b[0m \u001b[38;5;28;01mfinally\u001b[39;00m:\n\u001b[1;32m    773\u001b[0m     \u001b[38;5;28;01mif\u001b[39;00m attach_logging_hooks:\n",
      "\u001b[0;31mKeyboardInterrupt\u001b[0m: "
     ]
    }
   ],
   "source": [
    "def train():\n",
    "    model.train()\n",
    "    total_loss = 0\n",
    "    i = 0\n",
    "    for data in train_loader:\n",
    "        data = data.to(device)  # Mueve los datos al dispositivo\n",
    "        optimizer.zero_grad()\n",
    "        data.y = data.y.float()  # Asegurarse de que los datos sean float32\n",
    "        data.x = data.x.float()  # Asegurarse de que los datos sean float32\n",
    "        out = model(data)\n",
    "        try:\n",
    "            loss = loss_fn(out, data.y.view(out.size()))\n",
    "        except KeyError as e:\n",
    "            print(f\"KeyError: {e}\")\n",
    "            # Maneja el error o proporciona un valor por defecto\n",
    "            loss = torch.tensor(0.0, device=device)\n",
    "\n",
    "        loss.backward()\n",
    "        optimizer.step()\n",
    "        total_loss += float(loss)\n",
    "    return total_loss / len(train_loader.dataset)\n",
    "\n",
    "def test():\n",
    "    with torch.no_grad():\n",
    "        model.eval()\n",
    "        total_loss = 0\n",
    "        for data in test_loader:\n",
    "            data = data.to(device)\n",
    "            data.x = data.x.float()  # Asegurarse de que los datos sean float32\n",
    "            data.y = data.y.float()  # Asegurarse de que los datos sean float32\n",
    "            out = model(data)\n",
    "            loss = loss_fn(out, data.y.view(out.size()))\n",
    "            total_loss += float(loss)\n",
    "    return total_loss / len(test_loader.dataset)\n",
    "\n",
    "\n",
    "print(\"Start training...\")\n",
    "for epoch in range(1000):\n",
    "    train_loss = train()\n",
    "    test_loss = test()\n",
    "    train_losses.append(train_loss)\n",
    "    test_losses.append(test_loss)\n",
    "    \n",
    "    if epoch == 0:\n",
    "        print(f'Epoch: {epoch + 1:02d}, Train loss: {train_loss:.4f}, Test loss: {test_loss:.4f}')\n",
    "        torch.save(test_loss, f\"{path}/testloss_{epoch + 1}.pt\")\n",
    "        torch.save(train_loss, f\"{path}/trainloss_{epoch + 1}.pt\")\n",
    "    elif (epoch + 1) % 10 == 0:\n",
    "        print(f'Epoch: {epoch + 1:02d}, Train loss: {train_loss:.4f}, Test loss: {test_loss:.4f}')\n",
    "        torch.save(model, f\"{path}/model_{epoch + 1}.pth\")\n",
    "        torch.save(test_loss, f\"{path}/testloss_{epoch + 1}.pt\")\n",
    "        torch.save(train_loss, f\"{path}/trainloss_{epoch + 1}.pt\")\n",
    "\n",
    "        plt.plot(train_losses, \"b\", label=\"Train loss\")\n",
    "        plt.plot(test_losses, \"k\", label=\"Test loss\")\n",
    "        plt.yscale('log')\n",
    "        plt.savefig(f\"{path}/loss_plot.png\")\n"
   ]
  },
  {
   "cell_type": "markdown",
   "id": "38d0889f",
   "metadata": {},
   "source": [
    "## Plotting and checking\n",
    "Now we need to plot everything and check the predicted momentum"
   ]
  },
  {
   "cell_type": "code",
   "execution_count": 41,
   "id": "561f26bd",
   "metadata": {},
   "outputs": [],
   "source": [
    "class PlotRegression:\n",
    "    def __init__(self, model, test_loader, batch_size):\n",
    "        self.model = model\n",
    "        self.test_loader = test_loader\n",
    "        self.batch_size = batch_size\n",
    "        self.pt_pred_arr = []\n",
    "        self.pt_truth_arr = []\n",
    "\n",
    "    def evaluate(self):\n",
    "        with torch.no_grad():\n",
    "            for data in self.test_loader:\n",
    "                out = self.model(data)\n",
    "                for item in range(0, out.size(0)):\n",
    "                    vector_pred = out[item]\n",
    "                    vector_real = data[item].y\n",
    "                    self.pt_pred_arr.append(vector_pred.item())\n",
    "                    self.pt_truth_arr.append(vector_real.item())\n",
    "\n",
    "    def plot_regression(self, output_dir):\n",
    "        if not os.path.exists(output_dir):\n",
    "            os.makedirs(output_dir)\n",
    "        plt.clf()\n",
    "        plt.hist(self.pt_truth_arr, bins=100, color='skyblue', alpha=0.5, label=\"truth\")\n",
    "        plt.hist(self.pt_pred_arr, bins=100, color='g', alpha=0.5, label=\"prediction\")\n",
    "        plt.legend()\n",
    "        plt.savefig(os.path.join(output_dir, \"pt_regression.png\"))\n",
    "        plt.clf()\n",
    "\n",
    "\n",
    "        plt.plot(self.pt_truth_arr, self.pt_pred_arr, 'o')\n",
    "        plt.xlabel(\"Truth\")\n",
    "        plt.ylabel(\"Prediction\")\n",
    "        plt.savefig(os.path.join(output_dir, \"pt_regression_scatter.png\"))\n",
    "        plt.clf()\n",
    "\n",
    "        # plot difference between truth and prediction\n",
    "        diff = [x - y for x, y in zip(self.pt_truth_arr, self.pt_pred_arr)]\n",
    "        plt.hist(diff, bins=100, color='r', alpha=0.5, label=\"difference\")\n",
    "        plt.legend()\n",
    "        plt.savefig(os.path.join(output_dir, \"pt_regression_diff.png\"))\n",
    "        plt.clf()\n",
    "        \n",
    "\n"
   ]
  },
  {
   "cell_type": "code",
   "execution_count": 42,
   "id": "9f1e545a",
   "metadata": {},
   "outputs": [
    {
     "name": "stderr",
     "output_type": "stream",
     "text": [
      "/var/folders/08/4qyj2h792lv7kk8b3phm_j000000gn/T/ipykernel_10486/2111270606.py:1: FutureWarning: You are using `torch.load` with `weights_only=False` (the current default value), which uses the default pickle module implicitly. It is possible to construct malicious pickle data which will execute arbitrary code during unpickling (See https://github.com/pytorch/pytorch/blob/main/SECURITY.md#untrusted-models for more details). In a future release, the default value for `weights_only` will be flipped to `True`. This limits the functions that could be executed during unpickling. Arbitrary objects will no longer be allowed to be loaded via this mode unless they are explicitly allowlisted by the user via `torch.serialization.add_safe_globals`. We recommend you start setting `weights_only=True` for any use case where you don't have full control of the loaded file. Please open an issue on GitHub for any issues related to this experimental feature.\n",
      "  model = torch.load(\"../model_folder/model_100.pth\")\n"
     ]
    },
    {
     "data": {
      "text/plain": [
       "<Figure size 640x480 with 0 Axes>"
      ]
     },
     "metadata": {},
     "output_type": "display_data"
    }
   ],
   "source": [
    "model = torch.load(\"../model_folder/model_100.pth\")\n",
    "            \n",
    "evaluator = PlotRegression(model, test_loader, batch_size=BatchSize)\n",
    "evaluator.evaluate()\n",
    "evaluator.plot_regression(output_dir=\"../model_folder/\")\n"
   ]
  }
 ],
 "metadata": {
  "kernelspec": {
   "display_name": "pyenv_win",
   "language": "python",
   "name": "python3"
  },
  "language_info": {
   "codemirror_mode": {
    "name": "ipython",
    "version": 3
   },
   "file_extension": ".py",
   "mimetype": "text/x-python",
   "name": "python",
   "nbconvert_exporter": "python",
   "pygments_lexer": "ipython3",
   "version": "3.12.7"
  }
 },
 "nbformat": 4,
 "nbformat_minor": 5
}
