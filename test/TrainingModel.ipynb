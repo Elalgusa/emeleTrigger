{
 "cells": [
  {
   "cell_type": "markdown",
   "id": "504a19d5-3826-4061-b04e-624faa83d938",
   "metadata": {},
   "source": [
    "# Graph Neural Network Training\n",
    "\n",
    "Creation of graphs were done with \n",
    "```tools/training/GraphCreationModel.py```\n",
    "Files can be found in: \n",
    "```/eos/cms/store/user/folguera/L1TMuon/INTREPID/Graphs_v240725_241015/```\n",
    "in two flavours, with \"all\" connected layers and with up to \"3-neighbour\" layers connections. "
   ]
  },
  {
   "cell_type": "code",
   "execution_count": 2,
   "id": "ee8a9bb6-0343-4241-8191-af45f93f8f1e",
   "metadata": {},
   "outputs": [],
   "source": [
    "import torch\n",
    "import torch.nn.functional as F\n",
    "from torch_geometric.loader import DataLoader\n",
    "from torch_geometric.nn import GATConv\n",
    "from torch_geometric.nn import global_mean_pool as gap, global_max_pool as gmp\n",
    "import os, sys\n",
    "\n",
    "import matplotlib.pyplot as plt\n"
   ]
  },
  {
   "cell_type": "code",
   "execution_count": 3,
   "id": "9862d630-d545-4bf3-8511-ba95ae726a0f",
   "metadata": {},
   "outputs": [],
   "source": [
    "class GATRegressor(torch.nn.Module):\n",
    "    def __init__(self, num_node_features, hidden_dim, output_dim=3):\n",
    "        super(GATRegressor, self).__init__()\n",
    "        self.conv1 = GATConv(num_node_features, hidden_dim)\n",
    "        self.conv2 = GATConv(hidden_dim, hidden_dim)\n",
    "        self.fc1 = torch.nn.Linear(hidden_dim * 2, output_dim)\n",
    "\n",
    "    def forward(self, data):\n",
    "        # load nodel attributes: x, and edge attributes: deltaPhi and deltaEta\n",
    "        x, edge_index, deltaPhi, deltaEta, batch = data.x.float(), data.edge_index, data.deltaPhi.float(), data.deltaEta.float(), data.batch\n",
    "\n",
    "        # Combine deltaPhi and deltaEta into edge_attr\n",
    "        edge_attr = torch.stack([deltaPhi, deltaEta], dim=1)\n",
    "        # Apply graph convolutions\n",
    "        x = F.relu(x)\n",
    "        x = self.conv1(x, edge_index, edge_attr=edge_attr)  # Using GAT as it allow to use edge attributes\n",
    "        x = F.relu(x)\n",
    "        x = self.conv2(x, edge_index, edge_attr=edge_attr)\n",
    "\n",
    "        # Global mean pooling to get graph-level output\n",
    "        # x = gmp(x, batch)\n",
    "        x = torch.cat([gmp(x, batch), gap(x, batch)], dim=1)\n",
    "\n",
    "        # Fully connected layers for regression\n",
    "        x = self.fc1(x)\n",
    "        return x\n"
   ]
  },
  {
   "cell_type": "markdown",
   "id": "5b72ed9a-7364-4ad5-b85a-00b967c65487",
   "metadata": {},
   "source": [
    "## Load data"
   ]
  },
  {
   "cell_type": "code",
   "execution_count": 4,
   "id": "b8085132-9490-4c1f-b21b-3647e0fa22d9",
   "metadata": {},
   "outputs": [],
   "source": [
    "## check if EOS folder exists otherwise use local folder\n",
    "if os.path.exists(\"/eos/cms/store/user/folguera/L1TMuon/INTREPID/Graphs_v240725_241015/\"):\n",
    "    GraphDIR = \"/eos/cms/store/user/folguera/L1TMuon/INTREPID/Graphs_v240725_241015/\"\n",
    "else:\n",
    "    GraphDIR = \"../graph_folder/\"\n",
    "using_only = 5  ## number of files used"
   ]
  },
  {
   "cell_type": "code",
   "execution_count": 5,
   "id": "b71ac25c-5006-496c-9545-d22231c5cf75",
   "metadata": {},
   "outputs": [
    {
     "name": "stdout",
     "output_type": "stream",
     "text": [
      "Using files: ['vix_graph_3_15Oct_onlypt_001.pkl', 'vix_graph_3_15Oct_onlypt_002.pkl', 'vix_graph_3_15Oct_onlypt_003.pkl', 'vix_graph_3_15Oct_onlypt_004.pkl', 'vix_graph_3_15Oct_onlypt_005.pkl', 'vix_graph_3_15Oct_onlypt_006.pkl', 'vix_graph_3_15Oct_onlypt_007.pkl', 'vix_graph_3_15Oct_onlypt_008.pkl', 'vix_graph_3_15Oct_onlypt_009.pkl']\n"
     ]
    }
   ],
   "source": [
    "Allgraphs = []\n",
    "all_files = os.listdir(GraphDIR)\n",
    "\n",
    "# Filter for .pkl files\n",
    "pkl_files = [f for f in all_files if f.endswith('.pkl') and '_3_' in f]\n",
    "print(f\"Using files: {pkl_files}\")\n",
    "if not pkl_files:\n",
    "    print(\"No .pkl files found in the directory.\")\n",
    "    sys.exit()"
   ]
  },
  {
   "cell_type": "code",
   "execution_count": 6,
   "id": "b4c21c98-6789-4fbd-8173-5718ad69b374",
   "metadata": {},
   "outputs": [
    {
     "name": "stdout",
     "output_type": "stream",
     "text": [
      "Loading file: vix_graph_3_15Oct_onlypt_001.pkl\n"
     ]
    },
    {
     "name": "stderr",
     "output_type": "stream",
     "text": [
      "C:\\Users\\folguerassantiago\\AppData\\Local\\Temp\\ipykernel_35788\\3026860541.py:7: FutureWarning: You are using `torch.load` with `weights_only=False` (the current default value), which uses the default pickle module implicitly. It is possible to construct malicious pickle data which will execute arbitrary code during unpickling (See https://github.com/pytorch/pytorch/blob/main/SECURITY.md#untrusted-models for more details). In a future release, the default value for `weights_only` will be flipped to `True`. This limits the functions that could be executed during unpickling. Arbitrary objects will no longer be allowed to be loaded via this mode unless they are explicitly allowlisted by the user via `torch.serialization.add_safe_globals`. We recommend you start setting `weights_only=True` for any use case where you don't have full control of the loaded file. Please open an issue on GitHub for any issues related to this experimental feature.\n",
      "  graphfile = torch.load(file)\n"
     ]
    },
    {
     "name": "stdout",
     "output_type": "stream",
     "text": [
      "Loading file: vix_graph_3_15Oct_onlypt_002.pkl\n",
      "Loading file: vix_graph_3_15Oct_onlypt_003.pkl\n",
      "Loading file: vix_graph_3_15Oct_onlypt_004.pkl\n",
      "Loading file: vix_graph_3_15Oct_onlypt_005.pkl\n"
     ]
    }
   ],
   "source": [
    "count_files = 0\n",
    "for pkl_file in pkl_files:\n",
    "    if count_files >= using_only: break\n",
    "    file_path = os.path.join(GraphDIR, pkl_file)\n",
    "    print(f\"Loading file: {pkl_file}\")\n",
    "    with open(file_path, 'rb') as file:\n",
    "        graphfile = torch.load(file)\n",
    "        Allgraphs.append(graphfile)\n",
    "    count_files+=1"
   ]
  },
  {
   "cell_type": "code",
   "execution_count": 7,
   "id": "a65a2c49-4267-4b6d-85c1-bf02a79be9c8",
   "metadata": {},
   "outputs": [
    {
     "name": "stdout",
     "output_type": "stream",
     "text": [
      "Total Graphs: 279187\n",
      "Training events: 195392\n",
      "====================================\n",
      "Example of data:\n",
      "tensor([[1.0331e+00, 9.8300e+02, 1.0060e+03, 6.0000e+00, 9.0000e+00],\n",
      "        [1.0114e+00, 9.7700e+02, 1.0767e+03, 1.5000e+01, 5.0000e+00],\n",
      "        [1.0440e+00, 9.9100e+02, 1.1959e+03, 7.0000e+00, 9.0000e+00],\n",
      "        [1.1092e+00, 9.5400e+02, 4.1368e+02, 1.0000e+01, 5.0000e+00]],\n",
      "       dtype=torch.float64)\n",
      "tensor([[0, 0, 0, 1, 1, 2, 2, 3],\n",
      "        [1, 2, 3, 0, 2, 0, 1, 0]])\n",
      "tensor([ -6,   8, -29,  -6, -14,   8, -14, -29])\n",
      "tensor([-0.0217,  0.0109,  0.0761, -0.0217, -0.0326,  0.0109, -0.0326,  0.0761])\n",
      "tensor([-10.3202])\n",
      "====================================\n"
     ]
    }
   ],
   "source": [
    "BatchSize=64\n",
    "\n",
    "Graphs_for_training = sum(Allgraphs, [])\n",
    "Graphs_for_training_reduced = Graphs_for_training\n",
    "Graphs_for_training_filtered = [g for g in Graphs_for_training_reduced if g.edge_index.size(1) > 0]  # remove empty graphs\n",
    "\n",
    "# remove extra dimenson in y\n",
    "print(f\"Total Graphs: {len(Graphs_for_training)}\")\n",
    "for i in range(0, len(Graphs_for_training)):\n",
    "    Graphs_for_training_reduced[i].y = Graphs_for_training[i].y.mean(dim=0)\n",
    "\n",
    "# Train and test split:\n",
    "events = len(Graphs_for_training_reduced)\n",
    "ntrain = int((events * 0.7) / BatchSize) * BatchSize  # to have full batches\n",
    "print(f\"Training events: {ntrain}\")\n",
    "train_dataset = Graphs_for_training_reduced[:ntrain]\n",
    "test_dataset = Graphs_for_training_reduced[ntrain:ntrain * 2]\n",
    "\n",
    "print(\"====================================\")\n",
    "print(\"Example of data:\")\n",
    "print(train_dataset[0].x)\n",
    "print(train_dataset[0].edge_index)\n",
    "print(train_dataset[0].deltaPhi)\n",
    "print(train_dataset[0].deltaEta)\n",
    "print(train_dataset[0].y)\n",
    "print(\"====================================\")\n",
    "\n",
    "# Load data\n",
    "train_loader = DataLoader(train_dataset, batch_size=BatchSize, shuffle=True)\n",
    "test_loader = DataLoader(test_dataset, batch_size=BatchSize, shuffle=False)\n",
    "\n"
   ]
  },
  {
   "cell_type": "code",
   "execution_count": 20,
   "id": "a5d06f89",
   "metadata": {},
   "outputs": [
    {
     "name": "stdout",
     "output_type": "stream",
     "text": [
      "tensor([ -6,   8, -29,  -6, -14,   8, -14, -29])\n"
     ]
    }
   ],
   "source": [
    "print(train_loader.dataset[0].deltaPhi)"
   ]
  },
  {
   "cell_type": "markdown",
   "id": "cad19f4b-ebe3-4cb3-8fe7-71542f3ede76",
   "metadata": {},
   "source": [
    "### Training loop"
   ]
  },
  {
   "cell_type": "code",
   "execution_count": 14,
   "id": "aa398616-e2a3-490e-8502-2afb1971c54a",
   "metadata": {},
   "outputs": [
    {
     "name": "stdout",
     "output_type": "stream",
     "text": [
      "Using device: cpu\n",
      "Model initialized\n",
      "GATRegressor(\n",
      "  (conv1): GATConv(5, 64, heads=1)\n",
      "  (conv2): GATConv(64, 64, heads=1)\n",
      "  (fc1): Linear(in_features=128, out_features=1, bias=True)\n",
      ")\n"
     ]
    }
   ],
   "source": [
    "num_node_features = 5\n",
    "hidden_dim = BatchSize\n",
    "output_dim = 1\n",
    "LearningRate=0.0005\n",
    "device = torch.device('cuda' if torch.cuda.is_available() else 'cpu')\n",
    "\n",
    "print(f\"Using device: {device}\")\n",
    "model = GATRegressor(num_node_features, hidden_dim, output_dim).to(device)\n",
    "optimizer = torch.optim.Adam(model.parameters(), lr=LearningRate, weight_decay=0.75)\n",
    "loss_fn = torch.nn.MSELoss()\n",
    "print(\"Model initialized\")\n",
    "print(model)\n"
   ]
  },
  {
   "cell_type": "code",
   "execution_count": 15,
   "id": "5f259b03-5be6-46fc-abf0-0105c533c73b",
   "metadata": {},
   "outputs": [],
   "source": [
    "train_losses = []\n",
    "test_losses = []\n",
    "#\n",
    "# path = \"/eos/cms/store/user/folguera/L1TMuon/INTREPID/Model_v240725_241015/\"\n",
    "path = \"../model_folder/\"\n",
    "if not os.path.exists(path):\n",
    "    os.makedirs(path)"
   ]
  },
  {
   "cell_type": "code",
   "execution_count": 11,
   "id": "87282a0d-096c-458d-b2ec-baa9102fafa4",
   "metadata": {},
   "outputs": [
    {
     "name": "stdout",
     "output_type": "stream",
     "text": [
      "Start training...\n",
      "DataBatch(x=[376, 5], edge_index=[2, 1328], y=[64], deltaPhi=[1328], deltaEta=[1328], batch=[376], ptr=[65])\n",
      "DataBatch(x=[378, 5], edge_index=[2, 1234], y=[64], deltaPhi=[1234], deltaEta=[1234], batch=[378], ptr=[65])\n",
      "DataBatch(x=[359, 5], edge_index=[2, 1152], y=[64], deltaPhi=[1152], deltaEta=[1152], batch=[359], ptr=[65])\n",
      "DataBatch(x=[365, 5], edge_index=[2, 1148], y=[64], deltaPhi=[1148], deltaEta=[1148], batch=[365], ptr=[65])\n",
      "DataBatch(x=[383, 5], edge_index=[2, 1258], y=[64], deltaPhi=[1258], deltaEta=[1258], batch=[383], ptr=[65])\n",
      "DataBatch(x=[340, 5], edge_index=[2, 1000], y=[64], deltaPhi=[1000], deltaEta=[1000], batch=[340], ptr=[65])\n",
      "DataBatch(x=[377, 5], edge_index=[2, 1268], y=[64], deltaPhi=[1268], deltaEta=[1268], batch=[377], ptr=[65])\n",
      "DataBatch(x=[380, 5], edge_index=[2, 1250], y=[64], deltaPhi=[1250], deltaEta=[1250], batch=[380], ptr=[65])\n",
      "DataBatch(x=[364, 5], edge_index=[2, 1192], y=[64], deltaPhi=[1192], deltaEta=[1192], batch=[364], ptr=[65])\n",
      "DataBatch(x=[380, 5], edge_index=[2, 1244], y=[64], deltaPhi=[1244], deltaEta=[1244], batch=[380], ptr=[65])\n",
      "DataBatch(x=[364, 5], edge_index=[2, 1150], y=[64], deltaPhi=[1150], deltaEta=[1150], batch=[364], ptr=[65])\n",
      "DataBatch(x=[376, 5], edge_index=[2, 1228], y=[64], deltaPhi=[1228], deltaEta=[1228], batch=[376], ptr=[65])\n"
     ]
    },
    {
     "ename": "KeyError",
     "evalue": "'deltaPhi'",
     "output_type": "error",
     "traceback": [
      "\u001b[1;31m---------------------------------------------------------------------------\u001b[0m",
      "\u001b[1;31mKeyError\u001b[0m                                  Traceback (most recent call last)",
      "Cell \u001b[1;32mIn[11], line 36\u001b[0m\n\u001b[0;32m     34\u001b[0m \u001b[38;5;28mprint\u001b[39m(\u001b[38;5;124m\"\u001b[39m\u001b[38;5;124mStart training...\u001b[39m\u001b[38;5;124m\"\u001b[39m)\n\u001b[0;32m     35\u001b[0m \u001b[38;5;28;01mfor\u001b[39;00m epoch \u001b[38;5;129;01min\u001b[39;00m \u001b[38;5;28mrange\u001b[39m(\u001b[38;5;241m100\u001b[39m):\n\u001b[1;32m---> 36\u001b[0m     train_loss \u001b[38;5;241m=\u001b[39m \u001b[43mtrain\u001b[49m\u001b[43m(\u001b[49m\u001b[43m)\u001b[49m\n\u001b[0;32m     37\u001b[0m     test_loss \u001b[38;5;241m=\u001b[39m test()\n\u001b[0;32m     38\u001b[0m     train_losses\u001b[38;5;241m.\u001b[39mappend(train_loss)\n",
      "Cell \u001b[1;32mIn[11], line 5\u001b[0m, in \u001b[0;36mtrain\u001b[1;34m()\u001b[0m\n\u001b[0;32m      3\u001b[0m total_loss \u001b[38;5;241m=\u001b[39m \u001b[38;5;241m0\u001b[39m\n\u001b[0;32m      4\u001b[0m i \u001b[38;5;241m=\u001b[39m \u001b[38;5;241m0\u001b[39m\n\u001b[1;32m----> 5\u001b[0m \u001b[43m\u001b[49m\u001b[38;5;28;43;01mfor\u001b[39;49;00m\u001b[43m \u001b[49m\u001b[43mdata\u001b[49m\u001b[43m \u001b[49m\u001b[38;5;129;43;01min\u001b[39;49;00m\u001b[43m \u001b[49m\u001b[43mtrain_loader\u001b[49m\u001b[43m:\u001b[49m\n\u001b[0;32m      6\u001b[0m \u001b[43m    \u001b[49m\u001b[38;5;28;43mprint\u001b[39;49m\u001b[43m(\u001b[49m\u001b[43mdata\u001b[49m\u001b[43m)\u001b[49m\n\u001b[0;32m      7\u001b[0m \u001b[43m    \u001b[49m\u001b[43mdata\u001b[49m\u001b[43m \u001b[49m\u001b[38;5;241;43m=\u001b[39;49m\u001b[43m \u001b[49m\u001b[43mdata\u001b[49m\u001b[38;5;241;43m.\u001b[39;49m\u001b[43mto\u001b[49m\u001b[43m(\u001b[49m\u001b[43mdevice\u001b[49m\u001b[43m)\u001b[49m\u001b[43m  \u001b[49m\u001b[38;5;66;43;03m# Mueve los datos al dispositivo\u001b[39;49;00m\n",
      "File \u001b[1;32mc:\\Users\\folguerassantiago\\cernbox\\L1T\\INTREPID\\emeleTrigger\\pyenv_win\\Lib\\site-packages\\torch\\utils\\data\\dataloader.py:630\u001b[0m, in \u001b[0;36m_BaseDataLoaderIter.__next__\u001b[1;34m(self)\u001b[0m\n\u001b[0;32m    627\u001b[0m \u001b[38;5;28;01mif\u001b[39;00m \u001b[38;5;28mself\u001b[39m\u001b[38;5;241m.\u001b[39m_sampler_iter \u001b[38;5;129;01mis\u001b[39;00m \u001b[38;5;28;01mNone\u001b[39;00m:\n\u001b[0;32m    628\u001b[0m     \u001b[38;5;66;03m# TODO(https://github.com/pytorch/pytorch/issues/76750)\u001b[39;00m\n\u001b[0;32m    629\u001b[0m     \u001b[38;5;28mself\u001b[39m\u001b[38;5;241m.\u001b[39m_reset()  \u001b[38;5;66;03m# type: ignore[call-arg]\u001b[39;00m\n\u001b[1;32m--> 630\u001b[0m data \u001b[38;5;241m=\u001b[39m \u001b[38;5;28;43mself\u001b[39;49m\u001b[38;5;241;43m.\u001b[39;49m\u001b[43m_next_data\u001b[49m\u001b[43m(\u001b[49m\u001b[43m)\u001b[49m\n\u001b[0;32m    631\u001b[0m \u001b[38;5;28mself\u001b[39m\u001b[38;5;241m.\u001b[39m_num_yielded \u001b[38;5;241m+\u001b[39m\u001b[38;5;241m=\u001b[39m \u001b[38;5;241m1\u001b[39m\n\u001b[0;32m    632\u001b[0m \u001b[38;5;28;01mif\u001b[39;00m \u001b[38;5;28mself\u001b[39m\u001b[38;5;241m.\u001b[39m_dataset_kind \u001b[38;5;241m==\u001b[39m _DatasetKind\u001b[38;5;241m.\u001b[39mIterable \u001b[38;5;129;01mand\u001b[39;00m \\\n\u001b[0;32m    633\u001b[0m         \u001b[38;5;28mself\u001b[39m\u001b[38;5;241m.\u001b[39m_IterableDataset_len_called \u001b[38;5;129;01mis\u001b[39;00m \u001b[38;5;129;01mnot\u001b[39;00m \u001b[38;5;28;01mNone\u001b[39;00m \u001b[38;5;129;01mand\u001b[39;00m \\\n\u001b[0;32m    634\u001b[0m         \u001b[38;5;28mself\u001b[39m\u001b[38;5;241m.\u001b[39m_num_yielded \u001b[38;5;241m>\u001b[39m \u001b[38;5;28mself\u001b[39m\u001b[38;5;241m.\u001b[39m_IterableDataset_len_called:\n",
      "File \u001b[1;32mc:\\Users\\folguerassantiago\\cernbox\\L1T\\INTREPID\\emeleTrigger\\pyenv_win\\Lib\\site-packages\\torch\\utils\\data\\dataloader.py:673\u001b[0m, in \u001b[0;36m_SingleProcessDataLoaderIter._next_data\u001b[1;34m(self)\u001b[0m\n\u001b[0;32m    671\u001b[0m \u001b[38;5;28;01mdef\u001b[39;00m \u001b[38;5;21m_next_data\u001b[39m(\u001b[38;5;28mself\u001b[39m):\n\u001b[0;32m    672\u001b[0m     index \u001b[38;5;241m=\u001b[39m \u001b[38;5;28mself\u001b[39m\u001b[38;5;241m.\u001b[39m_next_index()  \u001b[38;5;66;03m# may raise StopIteration\u001b[39;00m\n\u001b[1;32m--> 673\u001b[0m     data \u001b[38;5;241m=\u001b[39m \u001b[38;5;28;43mself\u001b[39;49m\u001b[38;5;241;43m.\u001b[39;49m\u001b[43m_dataset_fetcher\u001b[49m\u001b[38;5;241;43m.\u001b[39;49m\u001b[43mfetch\u001b[49m\u001b[43m(\u001b[49m\u001b[43mindex\u001b[49m\u001b[43m)\u001b[49m  \u001b[38;5;66;03m# may raise StopIteration\u001b[39;00m\n\u001b[0;32m    674\u001b[0m     \u001b[38;5;28;01mif\u001b[39;00m \u001b[38;5;28mself\u001b[39m\u001b[38;5;241m.\u001b[39m_pin_memory:\n\u001b[0;32m    675\u001b[0m         data \u001b[38;5;241m=\u001b[39m _utils\u001b[38;5;241m.\u001b[39mpin_memory\u001b[38;5;241m.\u001b[39mpin_memory(data, \u001b[38;5;28mself\u001b[39m\u001b[38;5;241m.\u001b[39m_pin_memory_device)\n",
      "File \u001b[1;32mc:\\Users\\folguerassantiago\\cernbox\\L1T\\INTREPID\\emeleTrigger\\pyenv_win\\Lib\\site-packages\\torch\\utils\\data\\_utils\\fetch.py:55\u001b[0m, in \u001b[0;36m_MapDatasetFetcher.fetch\u001b[1;34m(self, possibly_batched_index)\u001b[0m\n\u001b[0;32m     53\u001b[0m \u001b[38;5;28;01melse\u001b[39;00m:\n\u001b[0;32m     54\u001b[0m     data \u001b[38;5;241m=\u001b[39m \u001b[38;5;28mself\u001b[39m\u001b[38;5;241m.\u001b[39mdataset[possibly_batched_index]\n\u001b[1;32m---> 55\u001b[0m \u001b[38;5;28;01mreturn\u001b[39;00m \u001b[38;5;28;43mself\u001b[39;49m\u001b[38;5;241;43m.\u001b[39;49m\u001b[43mcollate_fn\u001b[49m\u001b[43m(\u001b[49m\u001b[43mdata\u001b[49m\u001b[43m)\u001b[49m\n",
      "File \u001b[1;32mc:\\Users\\folguerassantiago\\cernbox\\L1T\\INTREPID\\emeleTrigger\\pyenv_win\\Lib\\site-packages\\torch_geometric\\loader\\dataloader.py:27\u001b[0m, in \u001b[0;36mCollater.__call__\u001b[1;34m(self, batch)\u001b[0m\n\u001b[0;32m     25\u001b[0m elem \u001b[38;5;241m=\u001b[39m batch[\u001b[38;5;241m0\u001b[39m]\n\u001b[0;32m     26\u001b[0m \u001b[38;5;28;01mif\u001b[39;00m \u001b[38;5;28misinstance\u001b[39m(elem, BaseData):\n\u001b[1;32m---> 27\u001b[0m     \u001b[38;5;28;01mreturn\u001b[39;00m \u001b[43mBatch\u001b[49m\u001b[38;5;241;43m.\u001b[39;49m\u001b[43mfrom_data_list\u001b[49m\u001b[43m(\u001b[49m\n\u001b[0;32m     28\u001b[0m \u001b[43m        \u001b[49m\u001b[43mbatch\u001b[49m\u001b[43m,\u001b[49m\n\u001b[0;32m     29\u001b[0m \u001b[43m        \u001b[49m\u001b[43mfollow_batch\u001b[49m\u001b[38;5;241;43m=\u001b[39;49m\u001b[38;5;28;43mself\u001b[39;49m\u001b[38;5;241;43m.\u001b[39;49m\u001b[43mfollow_batch\u001b[49m\u001b[43m,\u001b[49m\n\u001b[0;32m     30\u001b[0m \u001b[43m        \u001b[49m\u001b[43mexclude_keys\u001b[49m\u001b[38;5;241;43m=\u001b[39;49m\u001b[38;5;28;43mself\u001b[39;49m\u001b[38;5;241;43m.\u001b[39;49m\u001b[43mexclude_keys\u001b[49m\u001b[43m,\u001b[49m\n\u001b[0;32m     31\u001b[0m \u001b[43m    \u001b[49m\u001b[43m)\u001b[49m\n\u001b[0;32m     32\u001b[0m \u001b[38;5;28;01melif\u001b[39;00m \u001b[38;5;28misinstance\u001b[39m(elem, torch\u001b[38;5;241m.\u001b[39mTensor):\n\u001b[0;32m     33\u001b[0m     \u001b[38;5;28;01mreturn\u001b[39;00m default_collate(batch)\n",
      "File \u001b[1;32mc:\\Users\\folguerassantiago\\cernbox\\L1T\\INTREPID\\emeleTrigger\\pyenv_win\\Lib\\site-packages\\torch_geometric\\data\\batch.py:97\u001b[0m, in \u001b[0;36mBatch.from_data_list\u001b[1;34m(cls, data_list, follow_batch, exclude_keys)\u001b[0m\n\u001b[0;32m     82\u001b[0m \u001b[38;5;129m@classmethod\u001b[39m\n\u001b[0;32m     83\u001b[0m \u001b[38;5;28;01mdef\u001b[39;00m \u001b[38;5;21mfrom_data_list\u001b[39m(\n\u001b[0;32m     84\u001b[0m     \u001b[38;5;28mcls\u001b[39m,\n\u001b[1;32m   (...)\u001b[0m\n\u001b[0;32m     87\u001b[0m     exclude_keys: Optional[List[\u001b[38;5;28mstr\u001b[39m]] \u001b[38;5;241m=\u001b[39m \u001b[38;5;28;01mNone\u001b[39;00m,\n\u001b[0;32m     88\u001b[0m ) \u001b[38;5;241m-\u001b[39m\u001b[38;5;241m>\u001b[39m Self:\n\u001b[0;32m     89\u001b[0m \u001b[38;5;250m    \u001b[39m\u001b[38;5;124mr\u001b[39m\u001b[38;5;124;03m\"\"\"Constructs a :class:`~torch_geometric.data.Batch` object from a\u001b[39;00m\n\u001b[0;32m     90\u001b[0m \u001b[38;5;124;03m    list of :class:`~torch_geometric.data.Data` or\u001b[39;00m\n\u001b[0;32m     91\u001b[0m \u001b[38;5;124;03m    :class:`~torch_geometric.data.HeteroData` objects.\u001b[39;00m\n\u001b[1;32m   (...)\u001b[0m\n\u001b[0;32m     95\u001b[0m \u001b[38;5;124;03m    Will exclude any keys given in :obj:`exclude_keys`.\u001b[39;00m\n\u001b[0;32m     96\u001b[0m \u001b[38;5;124;03m    \"\"\"\u001b[39;00m\n\u001b[1;32m---> 97\u001b[0m     batch, slice_dict, inc_dict \u001b[38;5;241m=\u001b[39m \u001b[43mcollate\u001b[49m\u001b[43m(\u001b[49m\n\u001b[0;32m     98\u001b[0m \u001b[43m        \u001b[49m\u001b[38;5;28;43mcls\u001b[39;49m\u001b[43m,\u001b[49m\n\u001b[0;32m     99\u001b[0m \u001b[43m        \u001b[49m\u001b[43mdata_list\u001b[49m\u001b[38;5;241;43m=\u001b[39;49m\u001b[43mdata_list\u001b[49m\u001b[43m,\u001b[49m\n\u001b[0;32m    100\u001b[0m \u001b[43m        \u001b[49m\u001b[43mincrement\u001b[49m\u001b[38;5;241;43m=\u001b[39;49m\u001b[38;5;28;43;01mTrue\u001b[39;49;00m\u001b[43m,\u001b[49m\n\u001b[0;32m    101\u001b[0m \u001b[43m        \u001b[49m\u001b[43madd_batch\u001b[49m\u001b[38;5;241;43m=\u001b[39;49m\u001b[38;5;129;43;01mnot\u001b[39;49;00m\u001b[43m \u001b[49m\u001b[38;5;28;43misinstance\u001b[39;49m\u001b[43m(\u001b[49m\u001b[43mdata_list\u001b[49m\u001b[43m[\u001b[49m\u001b[38;5;241;43m0\u001b[39;49m\u001b[43m]\u001b[49m\u001b[43m,\u001b[49m\u001b[43m \u001b[49m\u001b[43mBatch\u001b[49m\u001b[43m)\u001b[49m\u001b[43m,\u001b[49m\n\u001b[0;32m    102\u001b[0m \u001b[43m        \u001b[49m\u001b[43mfollow_batch\u001b[49m\u001b[38;5;241;43m=\u001b[39;49m\u001b[43mfollow_batch\u001b[49m\u001b[43m,\u001b[49m\n\u001b[0;32m    103\u001b[0m \u001b[43m        \u001b[49m\u001b[43mexclude_keys\u001b[49m\u001b[38;5;241;43m=\u001b[39;49m\u001b[43mexclude_keys\u001b[49m\u001b[43m,\u001b[49m\n\u001b[0;32m    104\u001b[0m \u001b[43m    \u001b[49m\u001b[43m)\u001b[49m\n\u001b[0;32m    106\u001b[0m     batch\u001b[38;5;241m.\u001b[39m_num_graphs \u001b[38;5;241m=\u001b[39m \u001b[38;5;28mlen\u001b[39m(data_list)  \u001b[38;5;66;03m# type: ignore\u001b[39;00m\n\u001b[0;32m    107\u001b[0m     batch\u001b[38;5;241m.\u001b[39m_slice_dict \u001b[38;5;241m=\u001b[39m slice_dict  \u001b[38;5;66;03m# type: ignore\u001b[39;00m\n",
      "File \u001b[1;32mc:\\Users\\folguerassantiago\\cernbox\\L1T\\INTREPID\\emeleTrigger\\pyenv_win\\Lib\\site-packages\\torch_geometric\\data\\collate.py:95\u001b[0m, in \u001b[0;36mcollate\u001b[1;34m(cls, data_list, increment, add_batch, follow_batch, exclude_keys)\u001b[0m\n\u001b[0;32m     92\u001b[0m \u001b[38;5;28;01mif\u001b[39;00m attr \u001b[38;5;129;01min\u001b[39;00m exclude_keys:  \u001b[38;5;66;03m# Do not include top-level attribute.\u001b[39;00m\n\u001b[0;32m     93\u001b[0m     \u001b[38;5;28;01mcontinue\u001b[39;00m\n\u001b[1;32m---> 95\u001b[0m values \u001b[38;5;241m=\u001b[39m [\u001b[43mstore\u001b[49m\u001b[43m[\u001b[49m\u001b[43mattr\u001b[49m\u001b[43m]\u001b[49m \u001b[38;5;28;01mfor\u001b[39;00m store \u001b[38;5;129;01min\u001b[39;00m stores]\n\u001b[0;32m     97\u001b[0m \u001b[38;5;66;03m# The `num_nodes` attribute needs special treatment, as we need to\u001b[39;00m\n\u001b[0;32m     98\u001b[0m \u001b[38;5;66;03m# sum their values up instead of merging them to a list:\u001b[39;00m\n\u001b[0;32m     99\u001b[0m \u001b[38;5;28;01mif\u001b[39;00m attr \u001b[38;5;241m==\u001b[39m \u001b[38;5;124m'\u001b[39m\u001b[38;5;124mnum_nodes\u001b[39m\u001b[38;5;124m'\u001b[39m:\n",
      "File \u001b[1;32mc:\\Users\\folguerassantiago\\cernbox\\L1T\\INTREPID\\emeleTrigger\\pyenv_win\\Lib\\site-packages\\torch_geometric\\data\\storage.py:118\u001b[0m, in \u001b[0;36mBaseStorage.__getitem__\u001b[1;34m(self, key)\u001b[0m\n\u001b[0;32m    117\u001b[0m \u001b[38;5;28;01mdef\u001b[39;00m \u001b[38;5;21m__getitem__\u001b[39m(\u001b[38;5;28mself\u001b[39m, key: \u001b[38;5;28mstr\u001b[39m) \u001b[38;5;241m-\u001b[39m\u001b[38;5;241m>\u001b[39m Any:\n\u001b[1;32m--> 118\u001b[0m     \u001b[38;5;28;01mreturn\u001b[39;00m \u001b[38;5;28;43mself\u001b[39;49m\u001b[38;5;241;43m.\u001b[39;49m\u001b[43m_mapping\u001b[49m\u001b[43m[\u001b[49m\u001b[43mkey\u001b[49m\u001b[43m]\u001b[49m\n",
      "\u001b[1;31mKeyError\u001b[0m: 'deltaPhi'"
     ]
    }
   ],
   "source": [
    "def train():\n",
    "    model.train()\n",
    "    total_loss = 0\n",
    "    i = 0\n",
    "    for data in train_loader:\n",
    "        data = data.to(device)  # Mueve los datos al dispositivo\n",
    "        optimizer.zero_grad()\n",
    "        out = model(data)\n",
    "        try:\n",
    "            loss = loss_fn(out, data.y.view(out.size()))\n",
    "        except KeyError as e:\n",
    "            print(f\"KeyError: {e}\")\n",
    "            # Maneja el error o proporciona un valor por defecto\n",
    "            loss = torch.tensor(0.0, device=device)\n",
    "\n",
    "        loss.backward()\n",
    "        optimizer.step()\n",
    "        total_loss += float(loss)\n",
    "    return total_loss / len(train_loader.dataset)\n",
    "\n",
    "def test(self):\n",
    "    with torch.no_grad():\n",
    "        model.eval()\n",
    "        total_loss = 0\n",
    "        for data in test_loader:\n",
    "            data = data.to(device)\n",
    "            out = model(data)\n",
    "            loss = loss_fn(out, data.y.view(out.size()))\n",
    "            total_loss += float(loss)\n",
    "    return total_loss / len(test_loader.dataset)\n",
    "\n",
    "\n",
    "print(\"Start training...\")\n",
    "for epoch in range(100):\n",
    "    train_loss = train()\n",
    "    test_loss = test()\n",
    "    train_losses.append(train_loss)\n",
    "    test_losses.append(test_loss)\n",
    "    \n",
    "    if epoch == 0:\n",
    "        torch.save(test_loss, f\"{path}/testloss_{epoch + 1}.pt\")\n",
    "        torch.save(train_loss, f\"{path}/trainloss_{epoch + 1}.pt\")\n",
    "    elif (epoch + 1) % 10 == 0:\n",
    "        print(f'Epoch: {epoch + 1:02d}, Train loss: {train_loss:.4f}, Test loss: {test_loss:.4f}')\n",
    "        torch.save(model, f\"{path}/model_{epoch + 1}.pth\")\n",
    "        torch.save(test_loss, f\"{path}/testloss_{epoch + 1}.pt\")\n",
    "        torch.save(train_loss, f\"{path}/trainloss_{epoch + 1}.pt\")\n",
    "\n",
    "        plt.plot(train_losses, \"b\", label=\"Train loss\")\n",
    "        plt.plot(test_losses, \"k\", label=\"Test loss\")\n",
    "        plt.yscale('log')\n",
    "        plt.savefig(f\"{path}/loss_plot.png\")\n"
   ]
  },
  {
   "cell_type": "code",
   "execution_count": null,
   "id": "d8f87f4b-3d47-4d99-afba-03a14b6c4f88",
   "metadata": {},
   "outputs": [],
   "source": []
  }
 ],
 "metadata": {
  "kernelspec": {
   "display_name": "pyenv_win",
   "language": "python",
   "name": "python3"
  },
  "language_info": {
   "codemirror_mode": {
    "name": "ipython",
    "version": 3
   },
   "file_extension": ".py",
   "mimetype": "text/x-python",
   "name": "python",
   "nbconvert_exporter": "python",
   "pygments_lexer": "ipython3",
   "version": "3.12.7"
  }
 },
 "nbformat": 4,
 "nbformat_minor": 5
}
