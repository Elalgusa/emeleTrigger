{
 "cells": [
  {
   "cell_type": "code",
   "execution_count": 17,
   "id": "c0d17ce7-6fc3-4713-b80b-ab34c66ab573",
   "metadata": {},
   "outputs": [],
   "source": [
    "import mlphep as hep\n",
    "hep.style.use(\"CMS\")\n",
    "\n",
    "\n",
    "class PlotRegression:\n",
    "    def __init__(self, model, test_loader, batch_size):\n",
    "        self.model = model\n",
    "        self.test_loader = test_loader\n",
    "        self.batch_size = batch_size\n",
    "        self.pt_pred_arr = []\n",
    "        self.pt_truth_arr = []\n",
    "\n",
    "    def evaluate(self):\n",
    "        with torch.no_grad():\n",
    "            for data in self.test_loader:\n",
    "                out = self.model(data)\n",
    "                for item in range(0, out.size(0)):\n",
    "                    vector_pred = out[item]\n",
    "                    vector_real = data[item].y\n",
    "                    self.pt_pred_arr.append(vector_pred.item())\n",
    "                    self.pt_truth_arr.append(vector_real.item())\n",
    "\n",
    "    def plot_regression(self, output_dir):\n",
    "        if not os.path.exists(output_dir):\n",
    "            os.makedirs(output_dir)\n",
    "        plt.clf()\n",
    "        print(f\"Plotting regression in {output_dir}\")\n",
    "        plt.hist(self.pt_truth_arr, bins=100, color='skyblue', alpha=0.5, label=\"truth\")\n",
    "        plt.hist(self.pt_pred_arr, bins=100, color='g', alpha=0.5, label=\"prediction\")\n",
    "        plt.legend()\n",
    "        hep.cms.label(\"Preliminary\")\n",
    "        plt.savefig(os.path.join(output_dir, \"pt_regression.png\"))\n",
    "\n",
    "        plt.clf()\n",
    "\n",
    "        print(f\"Plotting scatter in {output_dir}\")\n",
    "        plt.plot(self.pt_truth_arr, self.pt_pred_arr, 'o')\n",
    "        plt.xlabel(\"Truth\")\n",
    "        plt.ylabel(\"Prediction\")\n",
    "        hep.cms.label(\"Preliminary\")\n",
    "        plt.savefig(os.path.join(output_dir, \"pt_regression_scatter.png\"))\n",
    "        plt.clf()\n",
    "\n",
    "        print(f\"Plotting difference in {output_dir}\")\n",
    "        # plot difference between truth and prediction\n",
    "        diff = [x - y for x, y in zip(self.pt_truth_arr, self.pt_pred_arr)]\n",
    "        plt.hist(diff, bins=100, color='r', alpha=0.5, label=\"difference\")\n",
    "        plt.legend()\n",
    "        hep.cms.label(\"Preliminary\")\n",
    "        plt.savefig(os.path.join(output_dir, \"pt_regression_diff.png\"))\n",
    "        plt.clf()"
   ]
  },
  {
   "cell_type": "code",
   "execution_count": 21,
   "id": "420897e7",
   "metadata": {},
   "outputs": [
    {
     "name": "stdout",
     "output_type": "stream",
     "text": [
      "../graph_folder/\n",
      "Using files: ['vix_graph_3_15Oct_onlypt_009.pkl', 'vix_graph_3_15Oct_onlypt_008.pkl', 'vix_graph_3_15Oct_onlypt_005.pkl', 'vix_graph_3_15Oct_onlypt_004.pkl', 'vix_graph_3_15Oct_onlypt_006.pkl', 'vix_graph_3_15Oct_onlypt_007.pkl', 'vix_graph_3_15Oct_onlypt_003.pkl', 'vix_graph_3_15Oct_onlypt_002.pkl', 'vix_graph_3_15Oct_onlypt_001.pkl']\n",
      "Loading file: vix_graph_3_15Oct_onlypt_009.pkl\n"
     ]
    },
    {
     "name": "stderr",
     "output_type": "stream",
     "text": [
      "/var/folders/08/4qyj2h792lv7kk8b3phm_j000000gn/T/ipykernel_48616/2190598436.py:30: FutureWarning: You are using `torch.load` with `weights_only=False` (the current default value), which uses the default pickle module implicitly. It is possible to construct malicious pickle data which will execute arbitrary code during unpickling (See https://github.com/pytorch/pytorch/blob/main/SECURITY.md#untrusted-models for more details). In a future release, the default value for `weights_only` will be flipped to `True`. This limits the functions that could be executed during unpickling. Arbitrary objects will no longer be allowed to be loaded via this mode unless they are explicitly allowlisted by the user via `torch.serialization.add_safe_globals`. We recommend you start setting `weights_only=True` for any use case where you don't have full control of the loaded file. Please open an issue on GitHub for any issues related to this experimental feature.\n",
      "  graphfile = torch.load(file)\n"
     ]
    },
    {
     "name": "stdout",
     "output_type": "stream",
     "text": [
      "Loading file: vix_graph_3_15Oct_onlypt_008.pkl\n"
     ]
    },
    {
     "name": "stderr",
     "output_type": "stream",
     "text": [
      "/var/folders/08/4qyj2h792lv7kk8b3phm_j000000gn/T/ipykernel_48616/2190598436.py:30: FutureWarning: You are using `torch.load` with `weights_only=False` (the current default value), which uses the default pickle module implicitly. It is possible to construct malicious pickle data which will execute arbitrary code during unpickling (See https://github.com/pytorch/pytorch/blob/main/SECURITY.md#untrusted-models for more details). In a future release, the default value for `weights_only` will be flipped to `True`. This limits the functions that could be executed during unpickling. Arbitrary objects will no longer be allowed to be loaded via this mode unless they are explicitly allowlisted by the user via `torch.serialization.add_safe_globals`. We recommend you start setting `weights_only=True` for any use case where you don't have full control of the loaded file. Please open an issue on GitHub for any issues related to this experimental feature.\n",
      "  graphfile = torch.load(file)\n"
     ]
    },
    {
     "name": "stdout",
     "output_type": "stream",
     "text": [
      "Loading file: vix_graph_3_15Oct_onlypt_005.pkl\n",
      "Loading file: vix_graph_3_15Oct_onlypt_004.pkl\n",
      "Loading file: vix_graph_3_15Oct_onlypt_006.pkl\n"
     ]
    }
   ],
   "source": [
    "import torch\n",
    "\n",
    "## check if EOS folder exists otherwise use local folder\n",
    "if os.path.exists(\"/eos/cms/store/user/folguera/L1TMuon/INTREPID/Graphs_v240725_241015/\"):\n",
    "    GraphDIR = \"/eos/cms/store/user/folguera/L1TMuon/INTREPID/Graphs_v240725_241015/\"\n",
    "else:\n",
    "    GraphDIR = \"../graph_folder/\"\n",
    "using_only = 20  ## number of files used\n",
    "print(GraphDIR)\n",
    "\n",
    "\n",
    "Allgraphs = []\n",
    "all_files = os.listdir(GraphDIR)\n",
    "\n",
    "# Filter for .pkl files\n",
    "pkl_files = [f for f in all_files if f.endswith('.pkl') and '_3_' in f]\n",
    "print(f\"Using files: {pkl_files}\")\n",
    "if not pkl_files:\n",
    "    print(\"No .pkl files found in the directory.\")\n",
    "    sys.exit()\n",
    "\n",
    "\n",
    "using_only = 5\n",
    "count_files = 0\n",
    "for pkl_file in pkl_files:\n",
    "    if count_files >= using_only: break\n",
    "    file_path = os.path.join(GraphDIR, pkl_file)\n",
    "    print(f\"Loading file: {pkl_file}\")\n",
    "    with open(file_path, 'rb') as file:\n",
    "        graphfile = torch.load(file)\n",
    "        Allgraphs.append(graphfile)\n",
    "    count_files+=1\n"
   ]
  },
  {
   "cell_type": "code",
   "execution_count": 23,
   "id": "a73bd7c7",
   "metadata": {},
   "outputs": [
    {
     "name": "stdout",
     "output_type": "stream",
     "text": [
      "Total Graphs: 279461\n",
      "Total Graphs after filtering: 279332\n",
      "Training events: 195520\n",
      "====================================\n",
      "Example of data (after normalization):\n",
      "tensor([[1.0005e+00, 1.7940e+03, 4.3113e+02, 0.0000e+00, 3.0000e+00],\n",
      "        [9.4612e-01, 1.7750e+03, 4.1368e+02, 1.0000e+01, 5.0000e+00],\n",
      "        [8.9175e-01, 1.7780e+03, 4.4868e+02, 1.1000e+01, 5.0000e+00],\n",
      "        [9.7875e-01, 1.7890e+03, 1.0766e+03, 6.0000e+00, 9.0000e+00],\n",
      "        [1.0005e+00, 1.7810e+03, 1.0914e+03, 1.5000e+01, 5.0000e+00]],\n",
      "       dtype=torch.float64)\n",
      "tensor([[0, 0, 1, 1, 2, 2, 3, 4],\n",
      "        [1, 2, 0, 2, 0, 1, 4, 3]])\n",
      "None\n",
      "tensor([-19, -16, -19,   3, -16,   3,  -8,  -8])\n",
      "tensor([-0.0544, -0.1088, -0.0544, -0.0544, -0.1088, -0.0544,  0.0217,  0.0217])\n",
      "tensor(-64.5507)\n",
      "====================================\n"
     ]
    }
   ],
   "source": [
    "BatchSize=64\n",
    "\n",
    "Graphs_for_training = sum(Allgraphs, [])\n",
    "Graphs_for_training_reduced = Graphs_for_training\n",
    "Graphs_for_training_filtered = [g for g in Graphs_for_training_reduced if g.edge_index.size(1) > 0]  # remove empty graphs\n",
    "\n",
    "# remove extra dimenson in y\n",
    "print(f\"Total Graphs: {len(Graphs_for_training)}\")\n",
    "for i in range(0, len(Graphs_for_training_filtered)):\n",
    "    Graphs_for_training_filtered[i].y = Graphs_for_training_filtered[i].y.mean(dim=0)\n",
    "\n",
    "print(f\"Total Graphs after filtering: {len(Graphs_for_training_filtered)}\")\n",
    "\n",
    "# Train and test split:\n",
    "events = len(Graphs_for_training_filtered)\n",
    "ntrain = int((events * 0.7) / BatchSize) * BatchSize  # to have full batches\n",
    "print(f\"Training events: {ntrain}\")\n",
    "train_dataset = Graphs_for_training_filtered[:ntrain]\n",
    "test_dataset = Graphs_for_training_filtered[ntrain:ntrain * 2]\n",
    "\n",
    "print(\"====================================\")\n",
    "print(\"Example of data (after normalization):\")\n",
    "print(train_dataset[0].x)\n",
    "print(train_dataset[0].edge_index)\n",
    "print(train_dataset[0].edge_attr)\n",
    "print(train_dataset[0].deltaPhi)\n",
    "print(train_dataset[0].deltaEta)\n",
    "print(train_dataset[0].y)\n",
    "print(\"====================================\")\n",
    "\n"
   ]
  },
  {
   "cell_type": "code",
   "execution_count": 32,
   "id": "a0456009",
   "metadata": {},
   "outputs": [
    {
     "name": "stderr",
     "output_type": "stream",
     "text": [
      "/var/folders/08/4qyj2h792lv7kk8b3phm_j000000gn/T/ipykernel_48616/649943059.py:7: FutureWarning: You are using `torch.load` with `weights_only=False` (the current default value), which uses the default pickle module implicitly. It is possible to construct malicious pickle data which will execute arbitrary code during unpickling (See https://github.com/pytorch/pytorch/blob/main/SECURITY.md#untrusted-models for more details). In a future release, the default value for `weights_only` will be flipped to `True`. This limits the functions that could be executed during unpickling. Arbitrary objects will no longer be allowed to be loaded via this mode unless they are explicitly allowlisted by the user via `torch.serialization.add_safe_globals`. We recommend you start setting `weights_only=True` for any use case where you don't have full control of the loaded file. Please open an issue on GitHub for any issues related to this experimental feature.\n",
      "  model = torch.load(\"../tools/training/Bsize64_lr5e-4_NOnormNodes/model_120.pth\")\n"
     ]
    },
    {
     "ename": "AttributeError",
     "evalue": "Can't get attribute 'GATRegressor' on <module 'models' (<_frozen_importlib_external.NamespaceLoader object at 0x300c9f310>)>",
     "output_type": "error",
     "traceback": [
      "\u001b[0;31m---------------------------------------------------------------------------\u001b[0m",
      "\u001b[0;31mAttributeError\u001b[0m                            Traceback (most recent call last)",
      "Cell \u001b[0;32mIn[32], line 7\u001b[0m\n\u001b[1;32m      4\u001b[0m train_loader \u001b[38;5;241m=\u001b[39m DataLoader(train_dataset, batch_size\u001b[38;5;241m=\u001b[39mBatchSize, shuffle\u001b[38;5;241m=\u001b[39m\u001b[38;5;28;01mTrue\u001b[39;00m)\n\u001b[1;32m      5\u001b[0m test_loader \u001b[38;5;241m=\u001b[39m DataLoader(test_dataset, batch_size\u001b[38;5;241m=\u001b[39m\u001b[38;5;241m1\u001b[39m, shuffle\u001b[38;5;241m=\u001b[39m\u001b[38;5;28;01mFalse\u001b[39;00m)\n\u001b[0;32m----> 7\u001b[0m model \u001b[38;5;241m=\u001b[39m \u001b[43mtorch\u001b[49m\u001b[38;5;241;43m.\u001b[39;49m\u001b[43mload\u001b[49m\u001b[43m(\u001b[49m\u001b[38;5;124;43m\"\u001b[39;49m\u001b[38;5;124;43m../tools/training/Bsize64_lr5e-4_NOnormNodes/model_120.pth\u001b[39;49m\u001b[38;5;124;43m\"\u001b[39;49m\u001b[43m)\u001b[49m\n\u001b[1;32m      9\u001b[0m evaluator \u001b[38;5;241m=\u001b[39m PlotRegression(model, test_loader, batch_size\u001b[38;5;241m=\u001b[39mBatchSize)\n\u001b[1;32m     10\u001b[0m evaluator\u001b[38;5;241m.\u001b[39mevaluate()\n",
      "File \u001b[0;32m~/cernbox/L1T/INTREPID/emeleTrigger/pyenv/lib/python3.11/site-packages/torch/serialization.py:1097\u001b[0m, in \u001b[0;36mload\u001b[0;34m(f, map_location, pickle_module, weights_only, mmap, **pickle_load_args)\u001b[0m\n\u001b[1;32m   1095\u001b[0m             \u001b[38;5;28;01mexcept\u001b[39;00m \u001b[38;5;167;01mRuntimeError\u001b[39;00m \u001b[38;5;28;01mas\u001b[39;00m e:\n\u001b[1;32m   1096\u001b[0m                 \u001b[38;5;28;01mraise\u001b[39;00m pickle\u001b[38;5;241m.\u001b[39mUnpicklingError(_get_wo_message(\u001b[38;5;28mstr\u001b[39m(e))) \u001b[38;5;28;01mfrom\u001b[39;00m \u001b[38;5;28;01mNone\u001b[39;00m\n\u001b[0;32m-> 1097\u001b[0m         \u001b[38;5;28;01mreturn\u001b[39;00m \u001b[43m_load\u001b[49m\u001b[43m(\u001b[49m\n\u001b[1;32m   1098\u001b[0m \u001b[43m            \u001b[49m\u001b[43mopened_zipfile\u001b[49m\u001b[43m,\u001b[49m\n\u001b[1;32m   1099\u001b[0m \u001b[43m            \u001b[49m\u001b[43mmap_location\u001b[49m\u001b[43m,\u001b[49m\n\u001b[1;32m   1100\u001b[0m \u001b[43m            \u001b[49m\u001b[43mpickle_module\u001b[49m\u001b[43m,\u001b[49m\n\u001b[1;32m   1101\u001b[0m \u001b[43m            \u001b[49m\u001b[43moverall_storage\u001b[49m\u001b[38;5;241;43m=\u001b[39;49m\u001b[43moverall_storage\u001b[49m\u001b[43m,\u001b[49m\n\u001b[1;32m   1102\u001b[0m \u001b[43m            \u001b[49m\u001b[38;5;241;43m*\u001b[39;49m\u001b[38;5;241;43m*\u001b[39;49m\u001b[43mpickle_load_args\u001b[49m\u001b[43m,\u001b[49m\n\u001b[1;32m   1103\u001b[0m \u001b[43m        \u001b[49m\u001b[43m)\u001b[49m\n\u001b[1;32m   1104\u001b[0m \u001b[38;5;28;01mif\u001b[39;00m mmap:\n\u001b[1;32m   1105\u001b[0m     f_name \u001b[38;5;241m=\u001b[39m \u001b[38;5;124m\"\u001b[39m\u001b[38;5;124m\"\u001b[39m \u001b[38;5;28;01mif\u001b[39;00m \u001b[38;5;129;01mnot\u001b[39;00m \u001b[38;5;28misinstance\u001b[39m(f, \u001b[38;5;28mstr\u001b[39m) \u001b[38;5;28;01melse\u001b[39;00m \u001b[38;5;124mf\u001b[39m\u001b[38;5;124m\"\u001b[39m\u001b[38;5;132;01m{\u001b[39;00mf\u001b[38;5;132;01m}\u001b[39;00m\u001b[38;5;124m, \u001b[39m\u001b[38;5;124m\"\u001b[39m\n",
      "File \u001b[0;32m~/cernbox/L1T/INTREPID/emeleTrigger/pyenv/lib/python3.11/site-packages/torch/serialization.py:1525\u001b[0m, in \u001b[0;36m_load\u001b[0;34m(zip_file, map_location, pickle_module, pickle_file, overall_storage, **pickle_load_args)\u001b[0m\n\u001b[1;32m   1522\u001b[0m \u001b[38;5;66;03m# Needed for tensors where storage device and rebuild tensor device are\u001b[39;00m\n\u001b[1;32m   1523\u001b[0m \u001b[38;5;66;03m# not connected (wrapper subclasses and tensors rebuilt using numpy)\u001b[39;00m\n\u001b[1;32m   1524\u001b[0m torch\u001b[38;5;241m.\u001b[39m_utils\u001b[38;5;241m.\u001b[39m_thread_local_state\u001b[38;5;241m.\u001b[39mmap_location \u001b[38;5;241m=\u001b[39m map_location\n\u001b[0;32m-> 1525\u001b[0m result \u001b[38;5;241m=\u001b[39m \u001b[43munpickler\u001b[49m\u001b[38;5;241;43m.\u001b[39;49m\u001b[43mload\u001b[49m\u001b[43m(\u001b[49m\u001b[43m)\u001b[49m\n\u001b[1;32m   1526\u001b[0m \u001b[38;5;28;01mdel\u001b[39;00m torch\u001b[38;5;241m.\u001b[39m_utils\u001b[38;5;241m.\u001b[39m_thread_local_state\u001b[38;5;241m.\u001b[39mmap_location\n\u001b[1;32m   1528\u001b[0m torch\u001b[38;5;241m.\u001b[39m_utils\u001b[38;5;241m.\u001b[39m_validate_loaded_sparse_tensors()\n",
      "File \u001b[0;32m~/cernbox/L1T/INTREPID/emeleTrigger/pyenv/lib/python3.11/site-packages/torch/serialization.py:1515\u001b[0m, in \u001b[0;36m_load.<locals>.UnpicklerWrapper.find_class\u001b[0;34m(self, mod_name, name)\u001b[0m\n\u001b[1;32m   1513\u001b[0m         \u001b[38;5;28;01mpass\u001b[39;00m\n\u001b[1;32m   1514\u001b[0m mod_name \u001b[38;5;241m=\u001b[39m load_module_mapping\u001b[38;5;241m.\u001b[39mget(mod_name, mod_name)\n\u001b[0;32m-> 1515\u001b[0m \u001b[38;5;28;01mreturn\u001b[39;00m \u001b[38;5;28msuper\u001b[39m()\u001b[38;5;241m.\u001b[39mfind_class(mod_name, name)\n",
      "\u001b[0;31mAttributeError\u001b[0m: Can't get attribute 'GATRegressor' on <module 'models' (<_frozen_importlib_external.NamespaceLoader object at 0x300c9f310>)>"
     ]
    }
   ],
   "source": [
    "from torch_geometric.loader import DataLoader\n",
    "\n",
    "train_loader = DataLoader(train_dataset, batch_size=BatchSize, shuffle=True)\n",
    "test_loader = DataLoader(test_dataset, batch_size=1, shuffle=False)\n",
    "\n",
    "model = torch.load(\"../tools/training/Bsize64_lr5e-4_NOnormNodes/model_120.pth\")\n",
    "            \n",
    "evaluator = PlotRegression(model, test_loader, batch_size=BatchSize)\n",
    "evaluator.evaluate()\n",
    "evaluator.plot_regression(output_dir=\"../model_folder/\")\n"
   ]
  }
 ],
 "metadata": {
  "kernelspec": {
   "display_name": "pyenv",
   "language": "python",
   "name": "python3"
  },
  "language_info": {
   "codemirror_mode": {
    "name": "ipython",
    "version": 3
   },
   "file_extension": ".py",
   "mimetype": "text/x-python",
   "name": "python",
   "nbconvert_exporter": "python",
   "pygments_lexer": "ipython3",
   "version": "3.11.5"
  }
 },
 "nbformat": 4,
 "nbformat_minor": 5
}
